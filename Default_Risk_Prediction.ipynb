{
 "cells": [
  {
   "cell_type": "code",
   "execution_count": 1,
   "metadata": {
    "colab": {
     "base_uri": "https://localhost:8080/"
    },
    "id": "qIvEnR44D26D",
    "outputId": "699cbff6-ebb4-48c6-948b-20f44551ee7c"
   },
   "outputs": [
    {
     "name": "stdout",
     "output_type": "stream",
     "text": [
      "matplotlib: 3.5.3\n"
     ]
    }
   ],
   "source": [
    "import matplotlib \n",
    "print('matplotlib: {}'.format(matplotlib.__version__))"
   ]
  },
  {
   "cell_type": "code",
   "execution_count": 2,
   "metadata": {
    "colab": {
     "base_uri": "https://localhost:8080/"
    },
    "id": "Yhb-ObM_D59f",
    "outputId": "a1187477-7a0f-4d7f-f030-63c8465c6666"
   },
   "outputs": [
    {
     "name": "stdout",
     "output_type": "stream",
     "text": [
      "Defaulting to user installation because normal site-packages is not writeable\n",
      "Requirement already satisfied: matplotlib in c:\\users\\visha\\appdata\\roaming\\python\\python39\\site-packages (3.5.3)\n",
      "Requirement already satisfied: numpy>=1.17 in c:\\programdata\\anaconda3\\lib\\site-packages (from matplotlib) (1.21.5)\n",
      "Requirement already satisfied: packaging>=20.0 in c:\\programdata\\anaconda3\\lib\\site-packages (from matplotlib) (21.3)\n",
      "Requirement already satisfied: pillow>=6.2.0 in c:\\programdata\\anaconda3\\lib\\site-packages (from matplotlib) (9.0.1)\n",
      "Requirement already satisfied: python-dateutil>=2.7 in c:\\programdata\\anaconda3\\lib\\site-packages (from matplotlib) (2.8.2)\n",
      "Requirement already satisfied: fonttools>=4.22.0 in c:\\programdata\\anaconda3\\lib\\site-packages (from matplotlib) (4.25.0)\n",
      "Requirement already satisfied: kiwisolver>=1.0.1 in c:\\programdata\\anaconda3\\lib\\site-packages (from matplotlib) (1.3.2)\n",
      "Requirement already satisfied: cycler>=0.10 in c:\\programdata\\anaconda3\\lib\\site-packages (from matplotlib) (0.11.0)\n",
      "Requirement already satisfied: pyparsing>=2.2.1 in c:\\programdata\\anaconda3\\lib\\site-packages (from matplotlib) (3.0.4)\n",
      "Requirement already satisfied: six>=1.5 in c:\\programdata\\anaconda3\\lib\\site-packages (from python-dateutil>=2.7->matplotlib) (1.16.0)\n",
      "Note: you may need to restart the kernel to use updated packages.\n"
     ]
    }
   ],
   "source": [
    "pip install matplotlib --upgrade"
   ]
  },
  {
   "cell_type": "code",
   "execution_count": 3,
   "metadata": {
    "id": "GIKItKkTD4Kc"
   },
   "outputs": [],
   "source": [
    "import pandas as pd\n",
    "import numpy as np\n",
    "import seaborn as sns\n",
    "import matplotlib.pyplot as plt\n",
    "%matplotlib inline"
   ]
  },
  {
   "cell_type": "code",
   "execution_count": 4,
   "metadata": {},
   "outputs": [
    {
     "name": "stdout",
     "output_type": "stream",
     "text": [
      "Defaulting to user installation because normal site-packages is not writeable\n",
      "Requirement already satisfied: xgboost in c:\\users\\visha\\appdata\\roaming\\python\\python39\\site-packages (1.6.2)\n",
      "Requirement already satisfied: numpy in c:\\programdata\\anaconda3\\lib\\site-packages (from xgboost) (1.21.5)\n",
      "Requirement already satisfied: scipy in c:\\programdata\\anaconda3\\lib\\site-packages (from xgboost) (1.7.3)\n",
      "Note: you may need to restart the kernel to use updated packages.\n"
     ]
    }
   ],
   "source": [
    "pip install xgboost"
   ]
  },
  {
   "cell_type": "code",
   "execution_count": 5,
   "metadata": {},
   "outputs": [
    {
     "name": "stdout",
     "output_type": "stream",
     "text": [
      "Defaulting to user installation because normal site-packages is not writeableNote: you may need to restart the kernel to use updated packages.\n",
      "\n",
      "Requirement already satisfied: imblearn in c:\\users\\visha\\appdata\\roaming\\python\\python39\\site-packages (0.0)\n",
      "Requirement already satisfied: imbalanced-learn in c:\\users\\visha\\appdata\\roaming\\python\\python39\\site-packages (from imblearn) (0.9.1)\n",
      "Requirement already satisfied: threadpoolctl>=2.0.0 in c:\\programdata\\anaconda3\\lib\\site-packages (from imbalanced-learn->imblearn) (2.2.0)\n",
      "Requirement already satisfied: scipy>=1.3.2 in c:\\programdata\\anaconda3\\lib\\site-packages (from imbalanced-learn->imblearn) (1.7.3)\n",
      "Requirement already satisfied: numpy>=1.17.3 in c:\\programdata\\anaconda3\\lib\\site-packages (from imbalanced-learn->imblearn) (1.21.5)\n",
      "Requirement already satisfied: scikit-learn>=1.1.0 in c:\\users\\visha\\appdata\\roaming\\python\\python39\\site-packages (from imbalanced-learn->imblearn) (1.1.2)\n",
      "Requirement already satisfied: joblib>=1.0.0 in c:\\programdata\\anaconda3\\lib\\site-packages (from imbalanced-learn->imblearn) (1.1.0)\n"
     ]
    }
   ],
   "source": [
    "pip install imblearn"
   ]
  },
  {
   "cell_type": "code",
   "execution_count": 6,
   "metadata": {
    "id": "vke7taHecYV8"
   },
   "outputs": [],
   "source": [
    "from sklearn.linear_model import LogisticRegression\n",
    "from sklearn.svm import SVC\n",
    "from sklearn.neighbors import KNeighborsClassifier\n",
    "from sklearn.tree import DecisionTreeClassifier\n",
    "from sklearn.ensemble import RandomForestClassifier\n",
    "from xgboost import XGBClassifier\n",
    "from sklearn.model_selection import train_test_split\n",
    "from sklearn.pipeline import make_pipeline\n",
    "from imblearn.pipeline import make_pipeline as imbalanced_make_pipeline\n",
    "from imblearn.pipeline import Pipeline, make_pipeline\n",
    "from imblearn.over_sampling import SMOTE\n",
    "from imblearn.under_sampling import NearMiss\n",
    "from sklearn.model_selection import GridSearchCV\n",
    "from sklearn.preprocessing import StandardScaler\n",
    "from imblearn.metrics import classification_report_imbalanced\n",
    "from sklearn.metrics import precision_score, recall_score, f1_score, roc_auc_score, accuracy_score, classification_report\n",
    "from sklearn.metrics import classification_report\n",
    "from collections import Counter\n",
    "from sklearn.model_selection import KFold, StratifiedKFold\n",
    "import warnings\n",
    "warnings.filterwarnings(\"ignore\")"
   ]
  },
  {
   "cell_type": "code",
   "execution_count": 7,
   "metadata": {
    "id": "lmrntibjimAO"
   },
   "outputs": [],
   "source": [
    "url = 'https://raw.githubusercontent.com/garg1709/Credit-Default-Classification/main/Training%20Data.csv'\n",
    "df = pd.read_csv(url, sep=',')"
   ]
  },
  {
   "cell_type": "code",
   "execution_count": 8,
   "metadata": {
    "colab": {
     "base_uri": "https://localhost:8080/",
     "height": 270
    },
    "id": "PC4_8ooNhv8J",
    "outputId": "a9278ca2-c200-4045-b88b-b36de5d3f771"
   },
   "outputs": [
    {
     "data": {
      "text/html": [
       "<div>\n",
       "<style scoped>\n",
       "    .dataframe tbody tr th:only-of-type {\n",
       "        vertical-align: middle;\n",
       "    }\n",
       "\n",
       "    .dataframe tbody tr th {\n",
       "        vertical-align: top;\n",
       "    }\n",
       "\n",
       "    .dataframe thead th {\n",
       "        text-align: right;\n",
       "    }\n",
       "</style>\n",
       "<table border=\"1\" class=\"dataframe\">\n",
       "  <thead>\n",
       "    <tr style=\"text-align: right;\">\n",
       "      <th></th>\n",
       "      <th>Id</th>\n",
       "      <th>income</th>\n",
       "      <th>age</th>\n",
       "      <th>experience</th>\n",
       "      <th>married</th>\n",
       "      <th>house_ownership</th>\n",
       "      <th>car_ownership</th>\n",
       "      <th>profession</th>\n",
       "      <th>city</th>\n",
       "      <th>state</th>\n",
       "      <th>current_job_years</th>\n",
       "      <th>current_house_years</th>\n",
       "      <th>risk_flag</th>\n",
       "    </tr>\n",
       "  </thead>\n",
       "  <tbody>\n",
       "    <tr>\n",
       "      <th>0</th>\n",
       "      <td>1</td>\n",
       "      <td>1303835</td>\n",
       "      <td>23</td>\n",
       "      <td>3</td>\n",
       "      <td>single</td>\n",
       "      <td>rented</td>\n",
       "      <td>no</td>\n",
       "      <td>Mechanical_engineer</td>\n",
       "      <td>Rewa</td>\n",
       "      <td>Madhya_Pradesh</td>\n",
       "      <td>3</td>\n",
       "      <td>13</td>\n",
       "      <td>0</td>\n",
       "    </tr>\n",
       "    <tr>\n",
       "      <th>1</th>\n",
       "      <td>2</td>\n",
       "      <td>7574516</td>\n",
       "      <td>40</td>\n",
       "      <td>10</td>\n",
       "      <td>single</td>\n",
       "      <td>rented</td>\n",
       "      <td>no</td>\n",
       "      <td>Software_Developer</td>\n",
       "      <td>Parbhani</td>\n",
       "      <td>Maharashtra</td>\n",
       "      <td>9</td>\n",
       "      <td>13</td>\n",
       "      <td>0</td>\n",
       "    </tr>\n",
       "    <tr>\n",
       "      <th>2</th>\n",
       "      <td>3</td>\n",
       "      <td>3991815</td>\n",
       "      <td>66</td>\n",
       "      <td>4</td>\n",
       "      <td>married</td>\n",
       "      <td>rented</td>\n",
       "      <td>no</td>\n",
       "      <td>Technical_writer</td>\n",
       "      <td>Alappuzha</td>\n",
       "      <td>Kerala</td>\n",
       "      <td>4</td>\n",
       "      <td>10</td>\n",
       "      <td>0</td>\n",
       "    </tr>\n",
       "    <tr>\n",
       "      <th>3</th>\n",
       "      <td>4</td>\n",
       "      <td>6256451</td>\n",
       "      <td>41</td>\n",
       "      <td>2</td>\n",
       "      <td>single</td>\n",
       "      <td>rented</td>\n",
       "      <td>yes</td>\n",
       "      <td>Software_Developer</td>\n",
       "      <td>Bhubaneswar</td>\n",
       "      <td>Odisha</td>\n",
       "      <td>2</td>\n",
       "      <td>12</td>\n",
       "      <td>1</td>\n",
       "    </tr>\n",
       "    <tr>\n",
       "      <th>4</th>\n",
       "      <td>5</td>\n",
       "      <td>5768871</td>\n",
       "      <td>47</td>\n",
       "      <td>11</td>\n",
       "      <td>single</td>\n",
       "      <td>rented</td>\n",
       "      <td>no</td>\n",
       "      <td>Civil_servant</td>\n",
       "      <td>Tiruchirappalli[10]</td>\n",
       "      <td>Tamil_Nadu</td>\n",
       "      <td>3</td>\n",
       "      <td>14</td>\n",
       "      <td>1</td>\n",
       "    </tr>\n",
       "  </tbody>\n",
       "</table>\n",
       "</div>"
      ],
      "text/plain": [
       "   Id   income  age  experience  married house_ownership car_ownership  \\\n",
       "0   1  1303835   23           3   single          rented            no   \n",
       "1   2  7574516   40          10   single          rented            no   \n",
       "2   3  3991815   66           4  married          rented            no   \n",
       "3   4  6256451   41           2   single          rented           yes   \n",
       "4   5  5768871   47          11   single          rented            no   \n",
       "\n",
       "            profession                 city           state  \\\n",
       "0  Mechanical_engineer                 Rewa  Madhya_Pradesh   \n",
       "1   Software_Developer             Parbhani     Maharashtra   \n",
       "2     Technical_writer            Alappuzha          Kerala   \n",
       "3   Software_Developer          Bhubaneswar          Odisha   \n",
       "4        Civil_servant  Tiruchirappalli[10]      Tamil_Nadu   \n",
       "\n",
       "   current_job_years  current_house_years  risk_flag  \n",
       "0                  3                   13          0  \n",
       "1                  9                   13          0  \n",
       "2                  4                   10          0  \n",
       "3                  2                   12          1  \n",
       "4                  3                   14          1  "
      ]
     },
     "execution_count": 8,
     "metadata": {},
     "output_type": "execute_result"
    }
   ],
   "source": [
    "df.head()"
   ]
  },
  {
   "cell_type": "code",
   "execution_count": 9,
   "metadata": {
    "colab": {
     "base_uri": "https://localhost:8080/"
    },
    "id": "8TlTSOT1CIuL",
    "outputId": "b16219df-ffe1-4fd3-d955-1e452ad1670b"
   },
   "outputs": [
    {
     "name": "stdout",
     "output_type": "stream",
     "text": [
      "<class 'pandas.core.frame.DataFrame'>\n",
      "RangeIndex: 252000 entries, 0 to 251999\n",
      "Data columns (total 13 columns):\n",
      " #   Column               Non-Null Count   Dtype \n",
      "---  ------               --------------   ----- \n",
      " 0   Id                   252000 non-null  int64 \n",
      " 1   income               252000 non-null  int64 \n",
      " 2   age                  252000 non-null  int64 \n",
      " 3   experience           252000 non-null  int64 \n",
      " 4   married              252000 non-null  object\n",
      " 5   house_ownership      252000 non-null  object\n",
      " 6   car_ownership        252000 non-null  object\n",
      " 7   profession           252000 non-null  object\n",
      " 8   city                 252000 non-null  object\n",
      " 9   state                252000 non-null  object\n",
      " 10  current_job_years    252000 non-null  int64 \n",
      " 11  current_house_years  252000 non-null  int64 \n",
      " 12  risk_flag            252000 non-null  int64 \n",
      "dtypes: int64(7), object(6)\n",
      "memory usage: 25.0+ MB\n"
     ]
    }
   ],
   "source": [
    "df.info()"
   ]
  },
  {
   "cell_type": "code",
   "execution_count": 10,
   "metadata": {
    "colab": {
     "base_uri": "https://localhost:8080/"
    },
    "id": "DNrvpqXPA25O",
    "outputId": "99d2eb8c-c607-4779-b3f5-8d7d436dcc80"
   },
   "outputs": [
    {
     "data": {
      "text/plain": [
       "Id                     0.000000\n",
       "income                 0.005958\n",
       "age                   -0.005315\n",
       "experience            -0.012779\n",
       "current_job_years      0.273146\n",
       "current_house_years    0.006786\n",
       "risk_flag              2.295734\n",
       "dtype: float64"
      ]
     },
     "execution_count": 10,
     "metadata": {},
     "output_type": "execute_result"
    }
   ],
   "source": [
    "# We can see that none of our variables are skewed too much.\n",
    "df.skew()"
   ]
  },
  {
   "cell_type": "code",
   "execution_count": 11,
   "metadata": {
    "colab": {
     "base_uri": "https://localhost:8080/"
    },
    "id": "Wh9SMmMqCMKT",
    "outputId": "e15cca31-8e8b-45d5-f502-aee507076204"
   },
   "outputs": [
    {
     "data": {
      "text/plain": [
       "(252000, 13)"
      ]
     },
     "execution_count": 11,
     "metadata": {},
     "output_type": "execute_result"
    }
   ],
   "source": [
    "df.shape"
   ]
  },
  {
   "cell_type": "code",
   "execution_count": 12,
   "metadata": {
    "colab": {
     "base_uri": "https://localhost:8080/"
    },
    "id": "rn5jITp3DVvG",
    "outputId": "fe7e83f7-947d-4d9a-b6d7-06e7491042f5"
   },
   "outputs": [
    {
     "data": {
      "text/plain": [
       "Id                     0\n",
       "income                 0\n",
       "age                    0\n",
       "experience             0\n",
       "married                0\n",
       "house_ownership        0\n",
       "car_ownership          0\n",
       "profession             0\n",
       "city                   0\n",
       "state                  0\n",
       "current_job_years      0\n",
       "current_house_years    0\n",
       "risk_flag              0\n",
       "dtype: int64"
      ]
     },
     "execution_count": 12,
     "metadata": {},
     "output_type": "execute_result"
    }
   ],
   "source": [
    "df.isnull().sum()"
   ]
  },
  {
   "cell_type": "code",
   "execution_count": 13,
   "metadata": {
    "colab": {
     "base_uri": "https://localhost:8080/"
    },
    "id": "Q7iCVpI_DYCm",
    "outputId": "accfdf0f-46a4-4d2d-bba7-3623c4c46f87"
   },
   "outputs": [
    {
     "data": {
      "text/plain": [
       "0"
      ]
     },
     "execution_count": 13,
     "metadata": {},
     "output_type": "execute_result"
    }
   ],
   "source": [
    "df.duplicated().sum()"
   ]
  },
  {
   "cell_type": "code",
   "execution_count": 14,
   "metadata": {
    "colab": {
     "base_uri": "https://localhost:8080/",
     "height": 365
    },
    "id": "uHOdTlmeBqH1",
    "outputId": "88e041ca-165f-4199-d68f-3d7b64520f15"
   },
   "outputs": [
    {
     "name": "stdout",
     "output_type": "stream",
     "text": [
      "0    221004\n",
      "1     30996\n",
      "Name: risk_flag, dtype: int64\n"
     ]
    },
    {
     "data": {
      "text/plain": [
       "Text(0.5, 1.0, 'Count of Defaulters and Non-Defaulters')"
      ]
     },
     "execution_count": 14,
     "metadata": {},
     "output_type": "execute_result"
    },
    {
     "data": {
      "image/png": "[encoded data removed]",
      "text/plain": [
       "<Figure size 432x288 with 1 Axes>"
      ]
     },
     "metadata": {
      "needs_background": "light"
     },
     "output_type": "display_data"
    }
   ],
   "source": [
    "ax = sns.countplot(df['risk_flag'])\n",
    "print(df['risk_flag'].value_counts())\n",
    "for i in ax.containers:\n",
    "    ax.bar_label(i,)\n",
    "plt.title(\"Count of Defaulters and Non-Defaulters\")"
   ]
  },
  {
   "cell_type": "code",
   "execution_count": 15,
   "metadata": {
    "id": "YvjgMB4eWSk1"
   },
   "outputs": [],
   "source": [
    "lst0 = df['risk_flag'].value_counts()"
   ]
  },
  {
   "cell_type": "code",
   "execution_count": 16,
   "metadata": {
    "colab": {
     "base_uri": "https://localhost:8080/"
    },
    "id": "U1n-I4fsWWbk",
    "outputId": "84b437dc-c1e3-4c34-b0d4-53b2a8006e87"
   },
   "outputs": [
    {
     "name": "stdout",
     "output_type": "stream",
     "text": [
      "Percentage of non-defaulters in our dataset :87.7 %\n",
      "Percentage of defaulters in our dataset :12.3 %\n"
     ]
    }
   ],
   "source": [
    "print(\"Percentage of non-defaulters in our dataset :\" + str(round(lst0[0]/(lst0[1]+lst0[0]),3)*100) + ' %')\n",
    "print(\"Percentage of defaulters in our dataset :\" + str(round(lst0[1]/(lst0[1]+lst0[0]),3)*100) + ' %')"
   ]
  },
  {
   "cell_type": "code",
   "execution_count": 17,
   "metadata": {
    "id": "0XinfqLeGcGE"
   },
   "outputs": [],
   "source": [
    "# Our dataset is clearly imbalanced as it has a lot of values for non-defaulters and less for defaulters. \n",
    "# This will lead to performance issues when we get out of sample data for our model.\n",
    "# We'll handle these when we will work on model building. For now, let's focus on exploring the dataset."
   ]
  },
  {
   "cell_type": "code",
   "execution_count": 18,
   "metadata": {
    "colab": {
     "base_uri": "https://localhost:8080/",
     "height": 417
    },
    "id": "60V5n1q8BqKw",
    "outputId": "73f9f655-ca7b-43c3-caa8-25876153a540"
   },
   "outputs": [
    {
     "name": "stdout",
     "output_type": "stream",
     "text": [
      "married  risk_flag\n",
      "married  0             23092\n",
      "         1              2636\n",
      "single   0            197912\n",
      "         1             28360\n",
      "Name: risk_flag, dtype: int64\n"
     ]
    },
    {
     "data": {
      "text/plain": [
       "Text(0.5, 1.0, 'Count of Defaulters and Non-Defaulters segregated by Married and Single people')"
      ]
     },
     "execution_count": 18,
     "metadata": {},
     "output_type": "execute_result"
    },
    {
     "data": {
      "image/png": "[encoded data removed]",
      "text/plain": [
       "<Figure size 432x288 with 1 Axes>"
      ]
     },
     "metadata": {
      "needs_background": "light"
     },
     "output_type": "display_data"
    }
   ],
   "source": [
    "ax = sns.countplot(df['risk_flag'],hue=df['married'])\n",
    "print(df.groupby(['married','risk_flag'])['risk_flag'].count())\n",
    "for i in ax.containers:\n",
    "    ax.bar_label(i,)\n",
    "plt.title(\"Count of Defaulters and Non-Defaulters segregated by Married and Single people\")"
   ]
  },
  {
   "cell_type": "code",
   "execution_count": 19,
   "metadata": {
    "id": "YS8y5eiT4q13"
   },
   "outputs": [],
   "source": [
    "lst = df.groupby(['married','risk_flag'])['risk_flag'].count()"
   ]
  },
  {
   "cell_type": "code",
   "execution_count": 20,
   "metadata": {
    "colab": {
     "base_uri": "https://localhost:8080/"
    },
    "id": "wuJ_Wgxa46mA",
    "outputId": "2ab54180-2d44-4893-8b8e-442accfb8952"
   },
   "outputs": [
    {
     "data": {
      "text/plain": [
       "married  risk_flag\n",
       "married  0             23092\n",
       "         1              2636\n",
       "single   0            197912\n",
       "         1             28360\n",
       "Name: risk_flag, dtype: int64"
      ]
     },
     "execution_count": 20,
     "metadata": {},
     "output_type": "execute_result"
    }
   ],
   "source": [
    "lst"
   ]
  },
  {
   "cell_type": "code",
   "execution_count": 21,
   "metadata": {
    "colab": {
     "base_uri": "https://localhost:8080/"
    },
    "id": "XMkZdMJpAxJN",
    "outputId": "deb7e041-02ee-4885-bd51-4d1dd6f85939"
   },
   "outputs": [
    {
     "name": "stdout",
     "output_type": "stream",
     "text": [
      "Total number of married people are: 25728\n",
      "Total number of single people are: 226272\n"
     ]
    }
   ],
   "source": [
    "print(\"Total number of married people are: \" + str((lst[0]+lst[1])))\n",
    "print(\"Total number of single people are: \" + str((lst[2]+lst[3])))"
   ]
  },
  {
   "cell_type": "code",
   "execution_count": 22,
   "metadata": {
    "colab": {
     "base_uri": "https://localhost:8080/"
    },
    "id": "wGhNcSjj6H2J",
    "outputId": "8f541f2e-8381-47ea-d13f-f355775a3500"
   },
   "outputs": [
    {
     "name": "stdout",
     "output_type": "stream",
     "text": [
      "Percentage of married people who are defaulters is: 10.25 %\n"
     ]
    }
   ],
   "source": [
    "print(\"Percentage of married people who are defaulters is: \" + str(round(lst[1]/(lst[0]+lst[1])*100,2)) + ' %')"
   ]
  },
  {
   "cell_type": "code",
   "execution_count": 23,
   "metadata": {
    "colab": {
     "base_uri": "https://localhost:8080/"
    },
    "id": "VUeIaLfn4svR",
    "outputId": "9b1acf92-5939-42f3-8355-fd3c7eefd166"
   },
   "outputs": [
    {
     "name": "stdout",
     "output_type": "stream",
     "text": [
      "Percentage of single people who are defaulters is: 12.53 %\n"
     ]
    }
   ],
   "source": [
    "print(\"Percentage of single people who are defaulters is: \" + str(round(lst[3]/(lst[2]+lst[3])*100,2)) + ' %')"
   ]
  },
  {
   "cell_type": "code",
   "execution_count": 24,
   "metadata": {
    "id": "0INqDIt8G3aQ"
   },
   "outputs": [],
   "source": [
    "# We can see that there is no major risk of people defaulting based on their Marital Status. There is an equally likely chance of defaulting\n",
    "# for both Married and Single people."
   ]
  },
  {
   "cell_type": "code",
   "execution_count": 25,
   "metadata": {
    "colab": {
     "base_uri": "https://localhost:8080/",
     "height": 417
    },
    "id": "TUTE9NHNBqNu",
    "outputId": "69724eef-7f1b-4a79-c52c-6ced3bee90dc"
   },
   "outputs": [
    {
     "name": "stdout",
     "output_type": "stream",
     "text": [
      "car_ownership  risk_flag\n",
      "no             0            153439\n",
      "               1             22561\n",
      "yes            0             67565\n",
      "               1              8435\n",
      "Name: car_ownership, dtype: int64\n"
     ]
    },
    {
     "data": {
      "text/plain": [
       "Text(0.5, 1.0, 'Count of Defaulters and Non-Defaulters segregated by car owners and non-car owners')"
      ]
     },
     "execution_count": 25,
     "metadata": {},
     "output_type": "execute_result"
    },
    {
     "data": {
      "image/png": "[encoded data removed]",
      "text/plain": [
       "<Figure size 432x288 with 1 Axes>"
      ]
     },
     "metadata": {
      "needs_background": "light"
     },
     "output_type": "display_data"
    }
   ],
   "source": [
    "ax = sns.countplot(df['risk_flag'],hue=df['car_ownership'])\n",
    "print(df.groupby(['car_ownership','risk_flag'])['car_ownership'].count())\n",
    "for i in ax.containers:\n",
    "    ax.bar_label(i,)\n",
    "plt.title(\"Count of Defaulters and Non-Defaulters segregated by car owners and non-car owners\")"
   ]
  },
  {
   "cell_type": "code",
   "execution_count": 26,
   "metadata": {
    "id": "_WAJY-gv67NT"
   },
   "outputs": [],
   "source": [
    "lst1 = df.groupby(['car_ownership','risk_flag'])['car_ownership'].count()"
   ]
  },
  {
   "cell_type": "code",
   "execution_count": 27,
   "metadata": {
    "colab": {
     "base_uri": "https://localhost:8080/"
    },
    "id": "JlVGfvTn7JMN",
    "outputId": "ea0b41e0-403c-4170-afe9-182ebc4ecbcc"
   },
   "outputs": [
    {
     "data": {
      "text/plain": [
       "car_ownership  risk_flag\n",
       "no             0            153439\n",
       "               1             22561\n",
       "yes            0             67565\n",
       "               1              8435\n",
       "Name: car_ownership, dtype: int64"
      ]
     },
     "execution_count": 27,
     "metadata": {},
     "output_type": "execute_result"
    }
   ],
   "source": [
    "lst1"
   ]
  },
  {
   "cell_type": "code",
   "execution_count": 28,
   "metadata": {
    "colab": {
     "base_uri": "https://localhost:8080/"
    },
    "id": "YRP89_KuBaCR",
    "outputId": "5c96d2cd-7d6b-4c18-e3d4-0ced89d76378"
   },
   "outputs": [
    {
     "name": "stdout",
     "output_type": "stream",
     "text": [
      "Total number of people who don't own a car are: 176000\n",
      "Total number of people who own a car are: 76000\n"
     ]
    }
   ],
   "source": [
    "print(\"Total number of people who don't own a car are: \" + str((lst1[0]+lst1[1])))\n",
    "print(\"Total number of people who own a car are: \" + str((lst1[2]+lst1[3])))"
   ]
  },
  {
   "cell_type": "code",
   "execution_count": 29,
   "metadata": {
    "colab": {
     "base_uri": "https://localhost:8080/"
    },
    "id": "froNsOsI7RDF",
    "outputId": "37dc8f5a-a2da-4315-8f89-01d84e09477a"
   },
   "outputs": [
    {
     "name": "stdout",
     "output_type": "stream",
     "text": [
      "Percentage of non-car owners who are defaulters is: 12.82 %\n"
     ]
    }
   ],
   "source": [
    "print(\"Percentage of non-car owners who are defaulters is: \" + str(round(lst1[1]/(lst1[0]+lst1[1])*100,2)) + ' %')"
   ]
  },
  {
   "cell_type": "code",
   "execution_count": 30,
   "metadata": {
    "colab": {
     "base_uri": "https://localhost:8080/"
    },
    "id": "U9l2tBQf74vW",
    "outputId": "60c11963-c7ec-432a-a0ba-0c4628cd0773"
   },
   "outputs": [
    {
     "name": "stdout",
     "output_type": "stream",
     "text": [
      "Percentage of car owners who are defaulters is: 11.1 %\n"
     ]
    }
   ],
   "source": [
    "print(\"Percentage of car owners who are defaulters is: \" + str(round(lst1[3]/(lst1[2]+lst1[3])*100,2)) + ' %')"
   ]
  },
  {
   "cell_type": "code",
   "execution_count": 31,
   "metadata": {
    "id": "y535NQbEBqQn"
   },
   "outputs": [],
   "source": [
    "# We can see from the above percentages there is no significant impact on loan defaulting given a person has a car or not.\n",
    "# Out of all car owners, around 11.1% defaulted on their loans where in non-car owners, around 12.82% did."
   ]
  },
  {
   "cell_type": "code",
   "execution_count": 32,
   "metadata": {
    "colab": {
     "base_uri": "https://localhost:8080/",
     "height": 507
    },
    "id": "0of1wzdjIhJI",
    "outputId": "dac083ec-2007-4a5d-89e9-4210957a4c6a"
   },
   "outputs": [
    {
     "name": "stdout",
     "output_type": "stream",
     "text": [
      "house_ownership  risk_flag\n",
      "norent_noown     0              6469\n",
      "                 1               715\n",
      "owned            0             11758\n",
      "                 1              1160\n",
      "rented           0            202777\n",
      "                 1             29121\n",
      "Name: house_ownership, dtype: int64\n"
     ]
    },
    {
     "data": {
      "text/plain": [
       "Text(0.5, 1.0, 'Count of Defaulters and Non-Defaulters segregated by people living in own, rented, norent_noown apartments')"
      ]
     },
     "execution_count": 32,
     "metadata": {},
     "output_type": "execute_result"
    },
    {
     "data": {
      "image/png": "[encoded data removed]",
      "text/plain": [
       "<Figure size 576x360 with 1 Axes>"
      ]
     },
     "metadata": {
      "needs_background": "light"
     },
     "output_type": "display_data"
    }
   ],
   "source": [
    "plt.figure(figsize=(8,5))\n",
    "ax = sns.countplot(df['risk_flag'],hue=df['house_ownership'])\n",
    "print(df.groupby(['house_ownership','risk_flag'])['house_ownership'].count())\n",
    "for i in ax.containers:\n",
    "    ax.bar_label(i,)\n",
    "plt.title(\"Count of Defaulters and Non-Defaulters segregated by people living in own, rented, norent_noown apartments\")"
   ]
  },
  {
   "cell_type": "code",
   "execution_count": 33,
   "metadata": {
    "id": "YkV1bYbF9EyN"
   },
   "outputs": [],
   "source": [
    "lst3 = df.groupby(['house_ownership','risk_flag'])['house_ownership'].count()"
   ]
  },
  {
   "cell_type": "code",
   "execution_count": 34,
   "metadata": {
    "colab": {
     "base_uri": "https://localhost:8080/"
    },
    "id": "rcQmfppW8QGb",
    "outputId": "7497efee-fe48-4015-9bef-04a0c2a15caf"
   },
   "outputs": [
    {
     "name": "stdout",
     "output_type": "stream",
     "text": [
      "Percentage of norent_noown house owners who are defaulters is: 9.95 %\n"
     ]
    }
   ],
   "source": [
    "print(\"Percentage of norent_noown house owners who are defaulters is: \" + str(round(lst3[1]/(lst3[0]+lst3[1])*100,2)) + ' %')"
   ]
  },
  {
   "cell_type": "code",
   "execution_count": 35,
   "metadata": {
    "colab": {
     "base_uri": "https://localhost:8080/"
    },
    "id": "OAtS93C98Rpd",
    "outputId": "d1149a4b-59e3-4376-e78a-303f4d21a682"
   },
   "outputs": [
    {
     "name": "stdout",
     "output_type": "stream",
     "text": [
      "Percentage of owned house owners who are defaulters is: 8.98 %\n"
     ]
    }
   ],
   "source": [
    "print(\"Percentage of owned house owners who are defaulters is: \" + str(round(lst3[3]/(lst3[2]+lst3[3])*100,2)) + ' %')"
   ]
  },
  {
   "cell_type": "code",
   "execution_count": 36,
   "metadata": {
    "colab": {
     "base_uri": "https://localhost:8080/"
    },
    "id": "zkuq-Ytr9LYv",
    "outputId": "bc19f10e-1885-482f-836f-96d9aa18ef46"
   },
   "outputs": [
    {
     "name": "stdout",
     "output_type": "stream",
     "text": [
      "Percentage of rented house owners who are defaulters is: 12.56 %\n"
     ]
    }
   ],
   "source": [
    "print(\"Percentage of rented house owners who are defaulters is: \" + str(round(lst3[5]/(lst3[4]+lst3[5])*100,2)) + ' %')"
   ]
  },
  {
   "cell_type": "code",
   "execution_count": 37,
   "metadata": {
    "id": "njBUYgN_IhMD"
   },
   "outputs": [],
   "source": [
    "# We can see that even though there is no significant difference between defaulters of different category of house owners,\n",
    "# the risk of default increases a little bit when a person is living in a rented house when compared to norent_noown or owned categories."
   ]
  },
  {
   "cell_type": "code",
   "execution_count": 38,
   "metadata": {
    "colab": {
     "base_uri": "https://localhost:8080/",
     "height": 420
    },
    "id": "7N_N1_44_mgf",
    "outputId": "ee192806-6d30-4ac5-be66-0584750b6720"
   },
   "outputs": [
    {
     "data": {
      "text/plain": [
       "Text(0.5, 1.0, 'Distribution of income in our dataset')"
      ]
     },
     "execution_count": 38,
     "metadata": {},
     "output_type": "execute_result"
    },
    {
     "data": {
      "text/plain": [
       "<Figure size 432x432 with 0 Axes>"
      ]
     },
     "metadata": {},
     "output_type": "display_data"
    },
    {
     "data": {
      "image/png": "[encoded data removed]",
      "text/plain": [
       "<Figure size 360x360 with 1 Axes>"
      ]
     },
     "metadata": {
      "needs_background": "light"
     },
     "output_type": "display_data"
    }
   ],
   "source": [
    "plt.figure(figsize=(6,6))\n",
    "sns.displot(df['income'],bins=10)\n",
    "plt.ticklabel_format(style='plain')\n",
    "plt.title(\"Distribution of income in our dataset\")"
   ]
  },
  {
   "cell_type": "code",
   "execution_count": 39,
   "metadata": {
    "id": "cpIgVtF4-RZx"
   },
   "outputs": [],
   "source": [
    "lst4 = df.groupby('risk_flag')['income'].median()"
   ]
  },
  {
   "cell_type": "code",
   "execution_count": 40,
   "metadata": {
    "colab": {
     "base_uri": "https://localhost:8080/"
    },
    "id": "ZRRpGqNO-40O",
    "outputId": "1712c9ce-a9f2-4edf-8b52-7b0d8a8e5396"
   },
   "outputs": [
    {
     "data": {
      "text/plain": [
       "risk_flag\n",
       "0    5002134.0\n",
       "1    4977653.0\n",
       "Name: income, dtype: float32"
      ]
     },
     "execution_count": 40,
     "metadata": {},
     "output_type": "execute_result"
    }
   ],
   "source": [
    "lst4 = pd.to_numeric(lst4, downcast = 'float')\n",
    "lst4"
   ]
  },
  {
   "cell_type": "code",
   "execution_count": 41,
   "metadata": {
    "id": "41X0jO_L_KJ1"
   },
   "outputs": [],
   "source": [
    "# We can see that the income of people in our dataset is fairly distributed with people from all income groups.\n",
    "# Also, we can see that the median income for both defaulters and non-defaulters is fairly close."
   ]
  },
  {
   "cell_type": "code",
   "execution_count": 42,
   "metadata": {
    "colab": {
     "base_uri": "https://localhost:8080/",
     "height": 233
    },
    "id": "B_cYIqt56tJz",
    "outputId": "eee140e3-30f2-4382-90fb-6de5517d5ee5"
   },
   "outputs": [
    {
     "data": {
      "text/plain": [
       "Text(0.5, 1.0, 'Count of Defaulters and Non-Defaulters segregated by States')"
      ]
     },
     "execution_count": 42,
     "metadata": {},
     "output_type": "execute_result"
    },
    {
     "data": {
      "image/png": "[encoded data removed]",
      "text/plain": [
       "<Figure size 3240x504 with 1 Axes>"
      ]
     },
     "metadata": {
      "needs_background": "light"
     },
     "output_type": "display_data"
    }
   ],
   "source": [
    "plt.figure(figsize=(45,7))\n",
    "ax = sns.countplot(df['state'], hue = df['risk_flag'], order=df['state'].value_counts(ascending=False).index)\n",
    "\n",
    "for i in ax.containers:\n",
    "    ax.bar_label(i,)\n",
    "    \n",
    "plt.title(\"Count of Defaulters and Non-Defaulters segregated by States\")\n",
    "\n",
    "#print(df.groupby(['state','risk_flag'])['state'].count())"
   ]
  },
  {
   "cell_type": "code",
   "execution_count": 43,
   "metadata": {
    "colab": {
     "base_uri": "https://localhost:8080/",
     "height": 1000
    },
    "id": "J6Wutxee6tMm",
    "outputId": "b132dd80-cf22-46c1-c7f5-b00a915923c9"
   },
   "outputs": [
    {
     "data": {
      "text/plain": [
       "Text(0.5, 1.0, 'Count of Defaulters and Non-Defaulters segregated by Profession')"
      ]
     },
     "execution_count": 43,
     "metadata": {},
     "output_type": "execute_result"
    },
    {
     "data": {
      "image/png": "[encoded data removed]",
      "text/plain": [
       "<Figure size 864x2880 with 1 Axes>"
      ]
     },
     "metadata": {
      "needs_background": "light"
     },
     "output_type": "display_data"
    }
   ],
   "source": [
    "plt.figure(figsize=(12,40))\n",
    "ax = sns.countplot(y = df['profession'], hue = df['risk_flag'],order=df['profession'].value_counts(ascending=False).index)\n",
    "\n",
    "for i in ax.containers:\n",
    "    ax.bar_label(i,)\n",
    "\n",
    "plt.title(\"Count of Defaulters and Non-Defaulters segregated by Profession\")\n",
    "\n",
    "#print(df.groupby(['state','risk_flag'])['state'].count())"
   ]
  },
  {
   "cell_type": "code",
   "execution_count": 44,
   "metadata": {
    "colab": {
     "base_uri": "https://localhost:8080/"
    },
    "id": "HBoPYCS8MybY",
    "outputId": "b2e6ed81-88ea-497d-c0f2-5e0d49c9338f"
   },
   "outputs": [
    {
     "name": "stdout",
     "output_type": "stream",
     "text": [
      "51\n",
      "317\n",
      "29\n"
     ]
    }
   ],
   "source": [
    "print(df['profession'].nunique())\n",
    "print(df['city'].nunique())\n",
    "print(df['state'].nunique())"
   ]
  },
  {
   "cell_type": "code",
   "execution_count": 45,
   "metadata": {
    "id": "LkhLcN4HIhXa"
   },
   "outputs": [],
   "source": [
    "# Since the cardinality of columns Profession, City and State is very high, let's drop these columns as they will increase our model complexity.\n",
    "# Also, we'll drop column ID as it is just a unique identifier."
   ]
  },
  {
   "cell_type": "code",
   "execution_count": 46,
   "metadata": {
    "id": "17pqvXekNduE"
   },
   "outputs": [],
   "source": [
    "df.drop(columns={'profession','city','state','Id'}, inplace=True)"
   ]
  },
  {
   "cell_type": "code",
   "execution_count": 47,
   "metadata": {
    "id": "Rtajayi5Ndwp"
   },
   "outputs": [],
   "source": [
    "# Now, let's one hot encode the variables married, car_ownership and house_ownership as these can't be used directly in our model."
   ]
  },
  {
   "cell_type": "code",
   "execution_count": 48,
   "metadata": {
    "id": "Wk4Ac6gBOuEi"
   },
   "outputs": [],
   "source": [
    "categorical_cols = ['married','car_ownership','house_ownership']"
   ]
  },
  {
   "cell_type": "code",
   "execution_count": 49,
   "metadata": {
    "id": "vc3OnzCtN43g"
   },
   "outputs": [],
   "source": [
    "df = pd.get_dummies(df, columns=categorical_cols, drop_first=True)"
   ]
  },
  {
   "cell_type": "code",
   "execution_count": 50,
   "metadata": {
    "colab": {
     "base_uri": "https://localhost:8080/",
     "height": 270
    },
    "id": "ZzoVDNhnPe5k",
    "outputId": "2860d68f-9f1a-4895-85e5-65d49b04d7cd"
   },
   "outputs": [
    {
     "data": {
      "text/html": [
       "<div>\n",
       "<style scoped>\n",
       "    .dataframe tbody tr th:only-of-type {\n",
       "        vertical-align: middle;\n",
       "    }\n",
       "\n",
       "    .dataframe tbody tr th {\n",
       "        vertical-align: top;\n",
       "    }\n",
       "\n",
       "    .dataframe thead th {\n",
       "        text-align: right;\n",
       "    }\n",
       "</style>\n",
       "<table border=\"1\" class=\"dataframe\">\n",
       "  <thead>\n",
       "    <tr style=\"text-align: right;\">\n",
       "      <th></th>\n",
       "      <th>income</th>\n",
       "      <th>age</th>\n",
       "      <th>experience</th>\n",
       "      <th>current_job_years</th>\n",
       "      <th>current_house_years</th>\n",
       "      <th>risk_flag</th>\n",
       "      <th>married_single</th>\n",
       "      <th>car_ownership_yes</th>\n",
       "      <th>house_ownership_owned</th>\n",
       "      <th>house_ownership_rented</th>\n",
       "    </tr>\n",
       "  </thead>\n",
       "  <tbody>\n",
       "    <tr>\n",
       "      <th>0</th>\n",
       "      <td>1303835</td>\n",
       "      <td>23</td>\n",
       "      <td>3</td>\n",
       "      <td>3</td>\n",
       "      <td>13</td>\n",
       "      <td>0</td>\n",
       "      <td>1</td>\n",
       "      <td>0</td>\n",
       "      <td>0</td>\n",
       "      <td>1</td>\n",
       "    </tr>\n",
       "    <tr>\n",
       "      <th>1</th>\n",
       "      <td>7574516</td>\n",
       "      <td>40</td>\n",
       "      <td>10</td>\n",
       "      <td>9</td>\n",
       "      <td>13</td>\n",
       "      <td>0</td>\n",
       "      <td>1</td>\n",
       "      <td>0</td>\n",
       "      <td>0</td>\n",
       "      <td>1</td>\n",
       "    </tr>\n",
       "    <tr>\n",
       "      <th>2</th>\n",
       "      <td>3991815</td>\n",
       "      <td>66</td>\n",
       "      <td>4</td>\n",
       "      <td>4</td>\n",
       "      <td>10</td>\n",
       "      <td>0</td>\n",
       "      <td>0</td>\n",
       "      <td>0</td>\n",
       "      <td>0</td>\n",
       "      <td>1</td>\n",
       "    </tr>\n",
       "    <tr>\n",
       "      <th>3</th>\n",
       "      <td>6256451</td>\n",
       "      <td>41</td>\n",
       "      <td>2</td>\n",
       "      <td>2</td>\n",
       "      <td>12</td>\n",
       "      <td>1</td>\n",
       "      <td>1</td>\n",
       "      <td>1</td>\n",
       "      <td>0</td>\n",
       "      <td>1</td>\n",
       "    </tr>\n",
       "    <tr>\n",
       "      <th>4</th>\n",
       "      <td>5768871</td>\n",
       "      <td>47</td>\n",
       "      <td>11</td>\n",
       "      <td>3</td>\n",
       "      <td>14</td>\n",
       "      <td>1</td>\n",
       "      <td>1</td>\n",
       "      <td>0</td>\n",
       "      <td>0</td>\n",
       "      <td>1</td>\n",
       "    </tr>\n",
       "  </tbody>\n",
       "</table>\n",
       "</div>"
      ],
      "text/plain": [
       "    income  age  experience  current_job_years  current_house_years  \\\n",
       "0  1303835   23           3                  3                   13   \n",
       "1  7574516   40          10                  9                   13   \n",
       "2  3991815   66           4                  4                   10   \n",
       "3  6256451   41           2                  2                   12   \n",
       "4  5768871   47          11                  3                   14   \n",
       "\n",
       "   risk_flag  married_single  car_ownership_yes  house_ownership_owned  \\\n",
       "0          0               1                  0                      0   \n",
       "1          0               1                  0                      0   \n",
       "2          0               0                  0                      0   \n",
       "3          1               1                  1                      0   \n",
       "4          1               1                  0                      0   \n",
       "\n",
       "   house_ownership_rented  \n",
       "0                       1  \n",
       "1                       1  \n",
       "2                       1  \n",
       "3                       1  \n",
       "4                       1  "
      ]
     },
     "execution_count": 50,
     "metadata": {},
     "output_type": "execute_result"
    }
   ],
   "source": [
    "df.head()"
   ]
  },
  {
   "cell_type": "code",
   "execution_count": 51,
   "metadata": {
    "id": "3meS6Pb7VkQG"
   },
   "outputs": [],
   "source": [
    "df1 = df.copy(deep=True)"
   ]
  },
  {
   "cell_type": "code",
   "execution_count": 52,
   "metadata": {
    "colab": {
     "base_uri": "https://localhost:8080/",
     "height": 270
    },
    "id": "K9Zhyn4aVkUG",
    "outputId": "b7ebbb91-2dc2-4002-a51a-ff2ffc101f32"
   },
   "outputs": [
    {
     "data": {
      "text/html": [
       "<div>\n",
       "<style scoped>\n",
       "    .dataframe tbody tr th:only-of-type {\n",
       "        vertical-align: middle;\n",
       "    }\n",
       "\n",
       "    .dataframe tbody tr th {\n",
       "        vertical-align: top;\n",
       "    }\n",
       "\n",
       "    .dataframe thead th {\n",
       "        text-align: right;\n",
       "    }\n",
       "</style>\n",
       "<table border=\"1\" class=\"dataframe\">\n",
       "  <thead>\n",
       "    <tr style=\"text-align: right;\">\n",
       "      <th></th>\n",
       "      <th>income</th>\n",
       "      <th>age</th>\n",
       "      <th>experience</th>\n",
       "      <th>current_job_years</th>\n",
       "      <th>current_house_years</th>\n",
       "      <th>risk_flag</th>\n",
       "      <th>married_single</th>\n",
       "      <th>car_ownership_yes</th>\n",
       "      <th>house_ownership_owned</th>\n",
       "      <th>house_ownership_rented</th>\n",
       "    </tr>\n",
       "  </thead>\n",
       "  <tbody>\n",
       "    <tr>\n",
       "      <th>0</th>\n",
       "      <td>1303835</td>\n",
       "      <td>23</td>\n",
       "      <td>3</td>\n",
       "      <td>3</td>\n",
       "      <td>13</td>\n",
       "      <td>0</td>\n",
       "      <td>1</td>\n",
       "      <td>0</td>\n",
       "      <td>0</td>\n",
       "      <td>1</td>\n",
       "    </tr>\n",
       "    <tr>\n",
       "      <th>1</th>\n",
       "      <td>7574516</td>\n",
       "      <td>40</td>\n",
       "      <td>10</td>\n",
       "      <td>9</td>\n",
       "      <td>13</td>\n",
       "      <td>0</td>\n",
       "      <td>1</td>\n",
       "      <td>0</td>\n",
       "      <td>0</td>\n",
       "      <td>1</td>\n",
       "    </tr>\n",
       "    <tr>\n",
       "      <th>2</th>\n",
       "      <td>3991815</td>\n",
       "      <td>66</td>\n",
       "      <td>4</td>\n",
       "      <td>4</td>\n",
       "      <td>10</td>\n",
       "      <td>0</td>\n",
       "      <td>0</td>\n",
       "      <td>0</td>\n",
       "      <td>0</td>\n",
       "      <td>1</td>\n",
       "    </tr>\n",
       "    <tr>\n",
       "      <th>3</th>\n",
       "      <td>6256451</td>\n",
       "      <td>41</td>\n",
       "      <td>2</td>\n",
       "      <td>2</td>\n",
       "      <td>12</td>\n",
       "      <td>1</td>\n",
       "      <td>1</td>\n",
       "      <td>1</td>\n",
       "      <td>0</td>\n",
       "      <td>1</td>\n",
       "    </tr>\n",
       "    <tr>\n",
       "      <th>4</th>\n",
       "      <td>5768871</td>\n",
       "      <td>47</td>\n",
       "      <td>11</td>\n",
       "      <td>3</td>\n",
       "      <td>14</td>\n",
       "      <td>1</td>\n",
       "      <td>1</td>\n",
       "      <td>0</td>\n",
       "      <td>0</td>\n",
       "      <td>1</td>\n",
       "    </tr>\n",
       "  </tbody>\n",
       "</table>\n",
       "</div>"
      ],
      "text/plain": [
       "    income  age  experience  current_job_years  current_house_years  \\\n",
       "0  1303835   23           3                  3                   13   \n",
       "1  7574516   40          10                  9                   13   \n",
       "2  3991815   66           4                  4                   10   \n",
       "3  6256451   41           2                  2                   12   \n",
       "4  5768871   47          11                  3                   14   \n",
       "\n",
       "   risk_flag  married_single  car_ownership_yes  house_ownership_owned  \\\n",
       "0          0               1                  0                      0   \n",
       "1          0               1                  0                      0   \n",
       "2          0               0                  0                      0   \n",
       "3          1               1                  1                      0   \n",
       "4          1               1                  0                      0   \n",
       "\n",
       "   house_ownership_rented  \n",
       "0                       1  \n",
       "1                       1  \n",
       "2                       1  \n",
       "3                       1  \n",
       "4                       1  "
      ]
     },
     "execution_count": 52,
     "metadata": {},
     "output_type": "execute_result"
    }
   ],
   "source": [
    "df1.head()"
   ]
  },
  {
   "cell_type": "code",
   "execution_count": 53,
   "metadata": {
    "id": "hBTq8fGnVkbt"
   },
   "outputs": [],
   "source": [
    "# We'll scale the variables which are not between 0 & 1. These include income, age, experience, current_job_years, and current_house_years.\n",
    "\n",
    "from sklearn.preprocessing import StandardScaler\n",
    "scaler = StandardScaler()\n",
    "\n",
    "df1['scaled_income'] = scaler.fit_transform(df1['income'].values.reshape(-1,1))\n",
    "df1['scaled_age'] = scaler.fit_transform(df1['age'].values.reshape(-1,1))\n",
    "df1['scaled_experience'] = scaler.fit_transform(df1['experience'].values.reshape(-1,1))\n",
    "df1['scaled_current_job_years'] = scaler.fit_transform(df1['current_job_years'].values.reshape(-1,1))\n",
    "df1['scaled_current_house_years'] = scaler.fit_transform(df1['current_house_years'].values.reshape(-1,1))\n",
    "\n",
    "df1.drop(['income', 'age', 'experience', 'current_job_years', 'current_house_years'], axis=1, inplace=True)"
   ]
  },
  {
   "cell_type": "code",
   "execution_count": 54,
   "metadata": {
    "colab": {
     "base_uri": "https://localhost:8080/",
     "height": 270
    },
    "id": "DFX8VWq-Vkfm",
    "outputId": "40c0acb1-1108-411e-910e-52e2ff2dde3c"
   },
   "outputs": [
    {
     "data": {
      "text/html": [
       "<div>\n",
       "<style scoped>\n",
       "    .dataframe tbody tr th:only-of-type {\n",
       "        vertical-align: middle;\n",
       "    }\n",
       "\n",
       "    .dataframe tbody tr th {\n",
       "        vertical-align: top;\n",
       "    }\n",
       "\n",
       "    .dataframe thead th {\n",
       "        text-align: right;\n",
       "    }\n",
       "</style>\n",
       "<table border=\"1\" class=\"dataframe\">\n",
       "  <thead>\n",
       "    <tr style=\"text-align: right;\">\n",
       "      <th></th>\n",
       "      <th>risk_flag</th>\n",
       "      <th>married_single</th>\n",
       "      <th>car_ownership_yes</th>\n",
       "      <th>house_ownership_owned</th>\n",
       "      <th>house_ownership_rented</th>\n",
       "      <th>scaled_income</th>\n",
       "      <th>scaled_age</th>\n",
       "      <th>scaled_experience</th>\n",
       "      <th>scaled_current_job_years</th>\n",
       "      <th>scaled_current_house_years</th>\n",
       "    </tr>\n",
       "  </thead>\n",
       "  <tbody>\n",
       "    <tr>\n",
       "      <th>0</th>\n",
       "      <td>0</td>\n",
       "      <td>1</td>\n",
       "      <td>0</td>\n",
       "      <td>0</td>\n",
       "      <td>1</td>\n",
       "      <td>-1.283145</td>\n",
       "      <td>-1.579603</td>\n",
       "      <td>-1.180232</td>\n",
       "      <td>-0.914131</td>\n",
       "      <td>0.716356</td>\n",
       "    </tr>\n",
       "    <tr>\n",
       "      <th>1</th>\n",
       "      <td>0</td>\n",
       "      <td>1</td>\n",
       "      <td>0</td>\n",
       "      <td>0</td>\n",
       "      <td>1</td>\n",
       "      <td>0.895457</td>\n",
       "      <td>-0.583343</td>\n",
       "      <td>-0.014067</td>\n",
       "      <td>0.731036</td>\n",
       "      <td>0.716356</td>\n",
       "    </tr>\n",
       "    <tr>\n",
       "      <th>2</th>\n",
       "      <td>0</td>\n",
       "      <td>0</td>\n",
       "      <td>0</td>\n",
       "      <td>0</td>\n",
       "      <td>1</td>\n",
       "      <td>-0.349269</td>\n",
       "      <td>0.940347</td>\n",
       "      <td>-1.013637</td>\n",
       "      <td>-0.639936</td>\n",
       "      <td>-1.427981</td>\n",
       "    </tr>\n",
       "    <tr>\n",
       "      <th>3</th>\n",
       "      <td>1</td>\n",
       "      <td>1</td>\n",
       "      <td>1</td>\n",
       "      <td>0</td>\n",
       "      <td>1</td>\n",
       "      <td>0.437526</td>\n",
       "      <td>-0.524740</td>\n",
       "      <td>-1.346827</td>\n",
       "      <td>-1.188325</td>\n",
       "      <td>0.001577</td>\n",
       "    </tr>\n",
       "    <tr>\n",
       "      <th>4</th>\n",
       "      <td>1</td>\n",
       "      <td>1</td>\n",
       "      <td>0</td>\n",
       "      <td>0</td>\n",
       "      <td>1</td>\n",
       "      <td>0.268128</td>\n",
       "      <td>-0.173119</td>\n",
       "      <td>0.152528</td>\n",
       "      <td>-0.914131</td>\n",
       "      <td>1.431135</td>\n",
       "    </tr>\n",
       "  </tbody>\n",
       "</table>\n",
       "</div>"
      ],
      "text/plain": [
       "   risk_flag  married_single  car_ownership_yes  house_ownership_owned  \\\n",
       "0          0               1                  0                      0   \n",
       "1          0               1                  0                      0   \n",
       "2          0               0                  0                      0   \n",
       "3          1               1                  1                      0   \n",
       "4          1               1                  0                      0   \n",
       "\n",
       "   house_ownership_rented  scaled_income  scaled_age  scaled_experience  \\\n",
       "0                       1      -1.283145   -1.579603          -1.180232   \n",
       "1                       1       0.895457   -0.583343          -0.014067   \n",
       "2                       1      -0.349269    0.940347          -1.013637   \n",
       "3                       1       0.437526   -0.524740          -1.346827   \n",
       "4                       1       0.268128   -0.173119           0.152528   \n",
       "\n",
       "   scaled_current_job_years  scaled_current_house_years  \n",
       "0                 -0.914131                    0.716356  \n",
       "1                  0.731036                    0.716356  \n",
       "2                 -0.639936                   -1.427981  \n",
       "3                 -1.188325                    0.001577  \n",
       "4                 -0.914131                    1.431135  "
      ]
     },
     "execution_count": 54,
     "metadata": {},
     "output_type": "execute_result"
    }
   ],
   "source": [
    "# Checking head of our dataframe to see if variables are scaled or not.\n",
    "df1.head()"
   ]
  },
  {
   "cell_type": "code",
   "execution_count": 55,
   "metadata": {
    "id": "E4YRGwuvX36P"
   },
   "outputs": [],
   "source": [
    "# Creating a dataframe X with all our predictor variables.\n",
    "X = df1.drop('risk_flag', axis=1)"
   ]
  },
  {
   "cell_type": "code",
   "execution_count": 56,
   "metadata": {
    "colab": {
     "base_uri": "https://localhost:8080/"
    },
    "id": "XfY45MXIEbrq",
    "outputId": "17e6738b-63db-489d-c564-855b31a0309e"
   },
   "outputs": [
    {
     "name": "stdout",
     "output_type": "stream",
     "text": [
      "                      feature       VIF\n",
      "0              married_single  7.790467\n",
      "1           car_ownership_yes  1.418477\n",
      "2       house_ownership_owned  1.397621\n",
      "3      house_ownership_rented  7.634635\n",
      "4               scaled_income  1.000119\n",
      "5                  scaled_age  1.000911\n",
      "6           scaled_experience  1.717673\n",
      "7    scaled_current_job_years  1.717072\n",
      "8  scaled_current_house_years  1.001205\n"
     ]
    }
   ],
   "source": [
    "# Let's find out the VIF factors of all our predictor variables.\n",
    "from statsmodels.stats.outliers_influence import variance_inflation_factor\n",
    "vif_data = pd.DataFrame()\n",
    "vif_data[\"feature\"] = X.columns\n",
    "  \n",
    "# calculating VIF for each feature\n",
    "vif_data[\"VIF\"] = [variance_inflation_factor(X.values, i)\n",
    "                          for i in range(len(X.columns))]\n",
    "\n",
    "print(vif_data)"
   ]
  },
  {
   "cell_type": "code",
   "execution_count": 57,
   "metadata": {
    "id": "cOdV-X9EY3MQ"
   },
   "outputs": [],
   "source": [
    "# There is a lot of debate as to what can be considered a high VIF value. Some say a value of 4 or 5 is high, whereas others are okay with a value\n",
    "# of less than 10. For our purpose, let's keep the base at 10 and anything above 10 will be discarded. We did this because only 2 variables, \n",
    "# 'married_single' and 'house_ownership_rented' have VIF greater than 5. And we believe that these 2 factors are crucial in identifying whether\n",
    "# a person will default or not."
   ]
  },
  {
   "cell_type": "code",
   "execution_count": 58,
   "metadata": {
    "id": "ZE8iRtkOZPWd"
   },
   "outputs": [],
   "source": [
    "# We can see that none of the variables have a very high VIF (>10). So we'll keep all the variables as is."
   ]
  },
  {
   "cell_type": "code",
   "execution_count": 59,
   "metadata": {
    "id": "ipSez2d_I7e_"
   },
   "outputs": [],
   "source": [
    "# Still we can see we have variables with VIF =  7. Let's see if there is any correlation between them.\n",
    "columns_with_large_vif = vif_data[vif_data.VIF > 5]"
   ]
  },
  {
   "cell_type": "code",
   "execution_count": 60,
   "metadata": {
    "id": "dYPlu4qHNYnE"
   },
   "outputs": [],
   "source": [
    "columns_with_large_vif = columns_with_large_vif.reset_index(drop=True)"
   ]
  },
  {
   "cell_type": "code",
   "execution_count": 61,
   "metadata": {
    "id": "T9t13oEKJ-6f"
   },
   "outputs": [],
   "source": [
    "lst5 = []\n",
    "length = len(columns_with_large_vif)\n",
    "for i in range(0,length):\n",
    "  lst5.append(columns_with_large_vif['feature'][i])"
   ]
  },
  {
   "cell_type": "code",
   "execution_count": 62,
   "metadata": {
    "colab": {
     "base_uri": "https://localhost:8080/",
     "height": 287
    },
    "id": "GGx-rQx_JxO4",
    "outputId": "09733f30-0aea-4d57-940d-5a2289b23474"
   },
   "outputs": [
    {
     "data": {
      "text/plain": [
       "<AxesSubplot:>"
      ]
     },
     "execution_count": 62,
     "metadata": {},
     "output_type": "execute_result"
    },
    {
     "data": {
      "image/png": "[encoded data removed]",
      "text/plain": [
       "<Figure size 432x288 with 2 Axes>"
      ]
     },
     "metadata": {
      "needs_background": "light"
     },
     "output_type": "display_data"
    }
   ],
   "source": [
    "# From the below heatmap, we can clearly see that there is no correlation between these variables whatsoever.\n",
    "sns.heatmap(X[lst5].corr(), annot=True)"
   ]
  },
  {
   "cell_type": "code",
   "execution_count": 63,
   "metadata": {
    "colab": {
     "base_uri": "https://localhost:8080/",
     "height": 580
    },
    "id": "d3KqMFdDRDBn",
    "outputId": "3d8f5d5c-13cd-4d58-9677-0877cf749083"
   },
   "outputs": [
    {
     "data": {
      "text/plain": [
       "<AxesSubplot:>"
      ]
     },
     "execution_count": 63,
     "metadata": {},
     "output_type": "execute_result"
    },
    {
     "data": {
      "image/png": "[encoded data removed]",
      "text/plain": [
       "<Figure size 720x504 with 2 Axes>"
      ]
     },
     "metadata": {
      "needs_background": "light"
     },
     "output_type": "display_data"
    }
   ],
   "source": [
    "# Now let's look at the correlation between our predictor variables with the help of a heatmap.\n",
    "\n",
    "plt.figure(figsize=(10,7))\n",
    "sns.heatmap(df1.drop(['risk_flag'], axis=1).corr(), annot=True)"
   ]
  },
  {
   "cell_type": "code",
   "execution_count": 64,
   "metadata": {
    "id": "dh7TANxUQk7E"
   },
   "outputs": [],
   "source": [
    "# We can see that variables house_ownership_owned and house_ownership_rented are highly negatively correlated. \n",
    "# Also, experience and current_job_years is highly positively correlated.\n",
    "# Let's remove one variable out of each pair. Let's remove house_ownership_rented as chances are anybody who doesn't own a home will be living\n",
    "# in a rented apartment. Also, let's remove current_job_years as experience will be a better representation of the entire dataset."
   ]
  },
  {
   "cell_type": "code",
   "execution_count": 65,
   "metadata": {
    "id": "WmI3IVGKbRLw"
   },
   "outputs": [],
   "source": [
    "df1.drop(['house_ownership_rented','scaled_current_job_years'], inplace=True, axis=1)"
   ]
  },
  {
   "cell_type": "code",
   "execution_count": 66,
   "metadata": {
    "colab": {
     "base_uri": "https://localhost:8080/",
     "height": 206
    },
    "id": "scOvdi-1bcbT",
    "outputId": "aa1d96ce-8e23-4fdb-b79d-63783f750879"
   },
   "outputs": [
    {
     "data": {
      "text/html": [
       "<div>\n",
       "<style scoped>\n",
       "    .dataframe tbody tr th:only-of-type {\n",
       "        vertical-align: middle;\n",
       "    }\n",
       "\n",
       "    .dataframe tbody tr th {\n",
       "        vertical-align: top;\n",
       "    }\n",
       "\n",
       "    .dataframe thead th {\n",
       "        text-align: right;\n",
       "    }\n",
       "</style>\n",
       "<table border=\"1\" class=\"dataframe\">\n",
       "  <thead>\n",
       "    <tr style=\"text-align: right;\">\n",
       "      <th></th>\n",
       "      <th>risk_flag</th>\n",
       "      <th>married_single</th>\n",
       "      <th>car_ownership_yes</th>\n",
       "      <th>house_ownership_owned</th>\n",
       "      <th>scaled_income</th>\n",
       "      <th>scaled_age</th>\n",
       "      <th>scaled_experience</th>\n",
       "      <th>scaled_current_house_years</th>\n",
       "    </tr>\n",
       "  </thead>\n",
       "  <tbody>\n",
       "    <tr>\n",
       "      <th>0</th>\n",
       "      <td>0</td>\n",
       "      <td>1</td>\n",
       "      <td>0</td>\n",
       "      <td>0</td>\n",
       "      <td>-1.283145</td>\n",
       "      <td>-1.579603</td>\n",
       "      <td>-1.180232</td>\n",
       "      <td>0.716356</td>\n",
       "    </tr>\n",
       "    <tr>\n",
       "      <th>1</th>\n",
       "      <td>0</td>\n",
       "      <td>1</td>\n",
       "      <td>0</td>\n",
       "      <td>0</td>\n",
       "      <td>0.895457</td>\n",
       "      <td>-0.583343</td>\n",
       "      <td>-0.014067</td>\n",
       "      <td>0.716356</td>\n",
       "    </tr>\n",
       "    <tr>\n",
       "      <th>2</th>\n",
       "      <td>0</td>\n",
       "      <td>0</td>\n",
       "      <td>0</td>\n",
       "      <td>0</td>\n",
       "      <td>-0.349269</td>\n",
       "      <td>0.940347</td>\n",
       "      <td>-1.013637</td>\n",
       "      <td>-1.427981</td>\n",
       "    </tr>\n",
       "    <tr>\n",
       "      <th>3</th>\n",
       "      <td>1</td>\n",
       "      <td>1</td>\n",
       "      <td>1</td>\n",
       "      <td>0</td>\n",
       "      <td>0.437526</td>\n",
       "      <td>-0.524740</td>\n",
       "      <td>-1.346827</td>\n",
       "      <td>0.001577</td>\n",
       "    </tr>\n",
       "    <tr>\n",
       "      <th>4</th>\n",
       "      <td>1</td>\n",
       "      <td>1</td>\n",
       "      <td>0</td>\n",
       "      <td>0</td>\n",
       "      <td>0.268128</td>\n",
       "      <td>-0.173119</td>\n",
       "      <td>0.152528</td>\n",
       "      <td>1.431135</td>\n",
       "    </tr>\n",
       "  </tbody>\n",
       "</table>\n",
       "</div>"
      ],
      "text/plain": [
       "   risk_flag  married_single  car_ownership_yes  house_ownership_owned  \\\n",
       "0          0               1                  0                      0   \n",
       "1          0               1                  0                      0   \n",
       "2          0               0                  0                      0   \n",
       "3          1               1                  1                      0   \n",
       "4          1               1                  0                      0   \n",
       "\n",
       "   scaled_income  scaled_age  scaled_experience  scaled_current_house_years  \n",
       "0      -1.283145   -1.579603          -1.180232                    0.716356  \n",
       "1       0.895457   -0.583343          -0.014067                    0.716356  \n",
       "2      -0.349269    0.940347          -1.013637                   -1.427981  \n",
       "3       0.437526   -0.524740          -1.346827                    0.001577  \n",
       "4       0.268128   -0.173119           0.152528                    1.431135  "
      ]
     },
     "execution_count": 66,
     "metadata": {},
     "output_type": "execute_result"
    }
   ],
   "source": [
    "# Checking if the variables are dropped or not. They have!\n",
    "df1.head()"
   ]
  },
  {
   "cell_type": "code",
   "execution_count": 67,
   "metadata": {
    "colab": {
     "base_uri": "https://localhost:8080/",
     "height": 580
    },
    "id": "r3GdQoxYbuWA",
    "outputId": "66dfdb9b-ba0f-4c5c-88b2-7bd87a8b26b6"
   },
   "outputs": [
    {
     "data": {
      "text/plain": [
       "<AxesSubplot:>"
      ]
     },
     "execution_count": 67,
     "metadata": {},
     "output_type": "execute_result"
    },
    {
     "data": {
      "image/png": "[encoded data removed]",
      "text/plain": [
       "<Figure size 720x504 with 2 Axes>"
      ]
     },
     "metadata": {
      "needs_background": "light"
     },
     "output_type": "display_data"
    }
   ],
   "source": [
    "# Now let's look at the correlation between our predictor variables with the help of a heatmap.\n",
    "\n",
    "plt.figure(figsize=(10,7))\n",
    "sns.heatmap(df1.drop(['risk_flag'], axis=1).corr(), annot=True)"
   ]
  },
  {
   "cell_type": "code",
   "execution_count": 68,
   "metadata": {
    "id": "JVUIz8zFbyDV"
   },
   "outputs": [],
   "source": [
    "# We can clearly see that there is no significant correlation between the variables now. So we can move forward with other steps."
   ]
  },
  {
   "cell_type": "markdown",
   "metadata": {
    "id": "RvoaBWZQcCKG"
   },
   "source": [
    "**MODEL BUILDING**\n",
    "\n",
    "\n",
    "\n"
   ]
  },
  {
   "cell_type": "code",
   "execution_count": 69,
   "metadata": {
    "id": "bVyJWygKb_yr"
   },
   "outputs": [],
   "source": [
    "# From our EDA, we have identified the predictor variables which we'll be using for model building. Let's now start with other processes."
   ]
  },
  {
   "cell_type": "code",
   "execution_count": 71,
   "metadata": {
    "id": "-SYjl8HzcZal"
   },
   "outputs": [],
   "source": [
    "# Since we have already seen, our dataset is highly imbalanced and we'll have to use some or the other technique to deal with that.\n",
    "# But before that, let's create a few models with our imbalanced data which will be our 'Baseline' models.\n",
    "# We'll compare further model performances with these models to evaluate."
   ]
  },
  {
   "cell_type": "code",
   "execution_count": 72,
   "metadata": {
    "id": "q0PLqHqvhv8L"
   },
   "outputs": [],
   "source": [
    "# Separating the predictor and dependent variables into X & y variables.\n",
    "\n",
    "X = df.drop(['risk_flag','current_job_years'], axis=1)\n",
    "y = df[['risk_flag']]"
   ]
  },
  {
   "cell_type": "code",
   "execution_count": 73,
   "metadata": {
    "colab": {
     "base_uri": "https://localhost:8080/"
    },
    "id": "X7iLqYOpYtZo",
    "outputId": "ed7a4213-8d1b-4765-d64a-8c7fe99b7944"
   },
   "outputs": [
    {
     "name": "stdout",
     "output_type": "stream",
     "text": [
      "----------------------------------------------------------------------------------------------------\n",
      "Label Distributions: \n",
      "\n",
      "[0.87726687 0.12273313]\n",
      "[0.87593254 0.12406746]\n"
     ]
    }
   ],
   "source": [
    "# Splitting the dataset into training and testing.\n",
    "\n",
    "from sklearn.model_selection import StratifiedShuffleSplit\n",
    "\n",
    "sss = StratifiedKFold(n_splits=5, random_state=None, shuffle=False)\n",
    "\n",
    "X_train, X_test, y_train, y_test = train_test_split(X, y, test_size=0.2, random_state=42)\n",
    "\n",
    "# See if both the train and test label distribution are similarly distributed\n",
    "train_unique_label, train_counts_label = np.unique(y_train, return_counts=True)\n",
    "test_unique_label, test_counts_label = np.unique(y_test, return_counts=True)\n",
    "print('-' * 100)\n",
    "\n",
    "print('Label Distributions: \\n')\n",
    "print(train_counts_label/ len(y_train))\n",
    "print(test_counts_label/ len(y_test))"
   ]
  },
  {
   "cell_type": "code",
   "execution_count": 74,
   "metadata": {
    "id": "qLeDbDkYTtvV"
   },
   "outputs": [],
   "source": [
    "# Before doing anything, let's run a vanilla Logistic Regression algorithm with the help of statsmodel library to identify how significant our\n",
    "# variables are in the prediction of defaulters."
   ]
  },
  {
   "cell_type": "code",
   "execution_count": 75,
   "metadata": {
    "colab": {
     "base_uri": "https://localhost:8080/"
    },
    "id": "kHRhQIL7TtyU",
    "outputId": "e3ae081f-4e46-4322-ead6-2f459d476969"
   },
   "outputs": [
    {
     "name": "stdout",
     "output_type": "stream",
     "text": [
      "Optimization terminated successfully.\n",
      "         Current function value: 0.372121\n",
      "         Iterations 6\n"
     ]
    }
   ],
   "source": [
    "import statsmodels.api as sm\n",
    "log_reg = sm.Logit(y_train, X_train).fit()"
   ]
  },
  {
   "cell_type": "code",
   "execution_count": 76,
   "metadata": {
    "colab": {
     "base_uri": "https://localhost:8080/"
    },
    "id": "NZTrdGs3Tt1O",
    "outputId": "30562aca-3470-4ec1-b4cb-b0ea19bcb51a"
   },
   "outputs": [
    {
     "name": "stdout",
     "output_type": "stream",
     "text": [
      "                           Logit Regression Results                           \n",
      "==============================================================================\n",
      "Dep. Variable:              risk_flag   No. Observations:               201600\n",
      "Model:                          Logit   Df Residuals:                   201592\n",
      "Method:                           MLE   Df Model:                            7\n",
      "Date:                Mon, 12 Sep 2022   Pseudo R-squ.:               0.0005761\n",
      "Time:                        10:23:30   Log-Likelihood:                -75020.\n",
      "converged:                       True   LL-Null:                       -75063.\n",
      "Covariance Type:            nonrobust   LLR p-value:                 6.480e-16\n",
      "==========================================================================================\n",
      "                             coef    std err          z      P>|z|      [0.025      0.975]\n",
      "------------------------------------------------------------------------------------------\n",
      "income                 -1.085e-08   2.33e-09     -4.657      0.000   -1.54e-08   -6.28e-09\n",
      "age                       -0.0057      0.000    -15.003      0.000      -0.006      -0.005\n",
      "experience                -0.0212      0.001    -18.921      0.000      -0.023      -0.019\n",
      "current_house_years       -0.0979      0.003    -31.189      0.000      -0.104      -0.092\n",
      "married_single             0.0758      0.022      3.453      0.001       0.033       0.119\n",
      "car_ownership_yes         -0.1793      0.015    -11.820      0.000      -0.209      -0.150\n",
      "house_ownership_owned     -0.5981      0.047    -12.618      0.000      -0.691      -0.505\n",
      "house_ownership_rented    -0.2489      0.033     -7.581      0.000      -0.313      -0.185\n",
      "==========================================================================================\n"
     ]
    }
   ],
   "source": [
    "print(log_reg.summary())"
   ]
  },
  {
   "cell_type": "code",
   "execution_count": 77,
   "metadata": {
    "id": "f2f-0-MrUcgE"
   },
   "outputs": [],
   "source": [
    "# From the model summary given above, we can see that all the predictor variables are significant and hence, we can use all of them for our\n",
    "# classificaation problem."
   ]
  },
  {
   "cell_type": "code",
   "execution_count": 78,
   "metadata": {
    "id": "69-SEBeadzFT"
   },
   "outputs": [],
   "source": [
    "# We'll be creating 3 classifier models, namely logistic, KNN, and Decision Tree to make classifications.\n",
    "# Since we'll be using all 3 models with Cross-Validation(CV), we won't scale our data beforehand as it might lead to DATA LEAKAGE issues\n",
    "# since the same training set is further divided into smaller chunks for training in each cross fold. So the best thing to do is scale our data \n",
    "# after dividing data for CV, and for this we'll be using pipelines to ensure everything works smoothly."
   ]
  },
  {
   "cell_type": "code",
   "execution_count": 79,
   "metadata": {
    "id": "7FVOQPRZM97R"
   },
   "outputs": [],
   "source": [
    "# https://ryan-reilly.medium.com/gridsearch-pipelines-of-multiple-models-on-multiclass-classification-e9124b6ea2e3 - SOURCE CODE"
   ]
  },
  {
   "cell_type": "code",
   "execution_count": 80,
   "metadata": {
    "id": "MVhbhTe5ipsJ"
   },
   "outputs": [],
   "source": [
    "# https://www.kaggle.com/code/janiobachmann/credit-fraud-dealing-with-imbalanced-datasets/notebook"
   ]
  },
  {
   "cell_type": "code",
   "execution_count": 81,
   "metadata": {
    "id": "Kx_6IhyZipu_"
   },
   "outputs": [],
   "source": [
    "\n",
    "pipe_lr = Pipeline([('scl', StandardScaler()),\n",
    "                    ('LR', LogisticRegression(random_state=42))])\n",
    "pipe_dt = Pipeline([('scl', StandardScaler()),\n",
    "                    ('DT',DecisionTreeClassifier(random_state=42))])\n",
    "pipe_knn = Pipeline([('scl', StandardScaler()),\n",
    "                    ('KNN', KNeighborsClassifier())])"
   ]
  },
  {
   "cell_type": "code",
   "execution_count": 82,
   "metadata": {
    "id": "SD2MA6siipxn"
   },
   "outputs": [],
   "source": [
    "param_range = [1, 2, 3, 4, 5, 6]\n",
    "param_range_fl = [1.0, 0.5, 0.1]\n",
    "\n",
    "lr_param_grid = [{'LR__penalty': ['l1', 'l2'],\n",
    "                   'LR__C': param_range_fl,\n",
    "                   'LR__solver': ['liblinear']}]\n",
    "\n",
    "dt_param_grid = [{'DT__criterion': ['gini', 'entropy'],\n",
    "                   'DT__min_samples_leaf': param_range,\n",
    "                   'DT__max_depth': param_range,\n",
    "                   'DT__min_samples_split': param_range[2:]}]\n",
    "\n",
    "knn_param_grid = [{'KNN__n_neighbors': param_range,\n",
    "                #   'KNN__algorithm': ['auto', 'ball_tree', 'kd_tree', 'brute'],\n",
    "                   'KNN__weights': ['uniform', 'distance'],\n",
    "                   'KNN__metric': ['euclidean', 'manhattan']}]\n"
   ]
  },
  {
   "cell_type": "code",
   "execution_count": 83,
   "metadata": {
    "id": "BxrWk7-kip0j"
   },
   "outputs": [],
   "source": [
    "lr_grid_search = GridSearchCV(estimator=pipe_lr,\n",
    "        param_grid=lr_param_grid,\n",
    "        scoring='recall',\n",
    "        cv=5)\n",
    "\n",
    "dt_grid_search = GridSearchCV(estimator=pipe_dt,\n",
    "        param_grid=dt_param_grid,\n",
    "        scoring='recall',\n",
    "        cv=5)\n",
    "\n",
    "knn_grid_search = GridSearchCV(estimator=pipe_knn,\n",
    "        param_grid=knn_param_grid,\n",
    "        scoring='recall',\n",
    "        cv=5)"
   ]
  },
  {
   "cell_type": "code",
   "execution_count": 84,
   "metadata": {
    "id": "Qo8NFCn8ip3R"
   },
   "outputs": [],
   "source": [
    "grids1 = [lr_grid_search, dt_grid_search, knn_grid_search]\n",
    "for pipe in grids1:\n",
    "    pipe.fit(X_train,y_train)"
   ]
  },
  {
   "cell_type": "code",
   "execution_count": 85,
   "metadata": {
    "colab": {
     "base_uri": "https://localhost:8080/"
    },
    "id": "jcCjzq6Hip6n",
    "outputId": "4dd0367f-3d41-4616-988e-e6705b1088da"
   },
   "outputs": [
    {
     "name": "stdout",
     "output_type": "stream",
     "text": [
      "Logistic Regression Test Recall: 0.0\n",
      "Logistic Regression Best Params: {'LR__C': 1.0, 'LR__penalty': 'l1', 'LR__solver': 'liblinear'}\n",
      "Decision Trees Test Recall: 0.010554933631856708\n",
      "Decision Trees Best Params: {'DT__criterion': 'gini', 'DT__max_depth': 6, 'DT__min_samples_leaf': 3, 'DT__min_samples_split': 3}\n",
      "K-Nearest Neighbors Test Recall: 0.4885654885654886\n",
      "K-Nearest Neighbors Best Params: {'KNN__metric': 'manhattan', 'KNN__n_neighbors': 5, 'KNN__weights': 'distance'}\n"
     ]
    }
   ],
   "source": [
    "grid_dict1 = {0: 'Logistic Regression', 1: 'Decision Trees', 2: 'K-Nearest Neighbors'}\n",
    "for i, model in enumerate(grids1):\n",
    "    print('{} Test Recall: {}'.format(grid_dict1[i],\n",
    "    recall_score(y_test, model.predict(X_test))))\n",
    "    print('{} Best Params: {}'.format(grid_dict1[i], model.best_params_))"
   ]
  },
  {
   "cell_type": "code",
   "execution_count": 86,
   "metadata": {
    "colab": {
     "base_uri": "https://localhost:8080/"
    },
    "id": "tHxYhF9SME2z",
    "outputId": "55f439a3-ed0f-4d1c-a6e4-d375cd2355d6"
   },
   "outputs": [
    {
     "name": "stdout",
     "output_type": "stream",
     "text": [
      "Logistic Regression Classification Report : \n",
      " \n",
      "               precision    recall  f1-score   support\n",
      "\n",
      "           0       0.88      1.00      0.93     44147\n",
      "           1       0.00      0.00      0.00      6253\n",
      "\n",
      "    accuracy                           0.88     50400\n",
      "   macro avg       0.44      0.50      0.47     50400\n",
      "weighted avg       0.77      0.88      0.82     50400\n",
      " \n",
      "\n",
      "Decision Trees Classification Report : \n",
      " \n",
      "               precision    recall  f1-score   support\n",
      "\n",
      "           0       0.88      1.00      0.93     44147\n",
      "           1       0.53      0.01      0.02      6253\n",
      "\n",
      "    accuracy                           0.88     50400\n",
      "   macro avg       0.70      0.50      0.48     50400\n",
      "weighted avg       0.83      0.88      0.82     50400\n",
      " \n",
      "\n",
      "K-Nearest Neighbors Classification Report : \n",
      " \n",
      "               precision    recall  f1-score   support\n",
      "\n",
      "           0       0.93      0.94      0.94     44147\n",
      "           1       0.55      0.49      0.52      6253\n",
      "\n",
      "    accuracy                           0.89     50400\n",
      "   macro avg       0.74      0.72      0.73     50400\n",
      "weighted avg       0.88      0.89      0.88     50400\n",
      " \n",
      "\n"
     ]
    }
   ],
   "source": [
    "grid_dict1 = {0: 'Logistic Regression', 1: 'Decision Trees', 2: 'K-Nearest Neighbors'}\n",
    "for i, model in enumerate(grids1):\n",
    "    print('{} Classification Report : \\n \\n {} \\n'.format(grid_dict1[i],\n",
    "  classification_report(y_test,model.predict(X_test))))"
   ]
  },
  {
   "cell_type": "code",
   "execution_count": null,
   "metadata": {
    "id": "_ghpQEO9Mp2V"
   },
   "outputs": [],
   "source": []
  },
  {
   "cell_type": "code",
   "execution_count": 87,
   "metadata": {
    "id": "clVL2-DeRg0r"
   },
   "outputs": [],
   "source": [
    "# Now we'll make a few changes to our pipelines. We'll add SMOTE function in order to ensure we do oversampling as our dataset is imbalanced.\n",
    "# Let's see how we perform on our dataset and is it better than our baseline model accuracy (imbalance data accuracy)."
   ]
  },
  {
   "cell_type": "code",
   "execution_count": 88,
   "metadata": {
    "id": "JqDis-IY8Ujs"
   },
   "outputs": [],
   "source": [
    "# https://kiwidamien.github.io/how-to-do-cross-validation-when-upsampling-data.html\n",
    "# https://vch98.medium.com/preventing-data-leakage-standardscaler-and-smote-e7416c63259c"
   ]
  },
  {
   "cell_type": "code",
   "execution_count": 89,
   "metadata": {
    "id": "YGd1XxXf-Xwz"
   },
   "outputs": [],
   "source": [
    "\n",
    "imb_pipe_lr = Pipeline(steps = [('smote', SMOTE(random_state = 42)), \n",
    "                      ('standardscaler', StandardScaler()),\n",
    "                      ('LR', LogisticRegression(random_state = 42))])\n",
    "\n",
    "imb_pipe_dt = Pipeline(steps = [('smote', SMOTE(random_state = 42)), \n",
    "                      ('standardscaler', StandardScaler()),\n",
    "                      ('DT', DecisionTreeClassifier(random_state = 42))])\n",
    "\n",
    "imb_pipe_knn = Pipeline(steps = [('smote', SMOTE(random_state = 42)), \n",
    "                      ('standardscaler', StandardScaler()),\n",
    "                      ('KNN', KNeighborsClassifier())])\n"
   ]
  },
  {
   "cell_type": "code",
   "execution_count": 90,
   "metadata": {
    "id": "N52XplQ2GlqN"
   },
   "outputs": [],
   "source": [
    "imb_lr_grid_search = GridSearchCV(estimator = imb_pipe_lr,\n",
    "        param_grid = lr_param_grid,\n",
    "        scoring='recall',\n",
    "        cv=5)\n",
    "\n",
    "imb_dt_grid_search = GridSearchCV(estimator = imb_pipe_dt,\n",
    "        param_grid = dt_param_grid,\n",
    "        scoring='recall',\n",
    "        cv=5)\n",
    "\n",
    "imb_knn_grid_search = GridSearchCV(estimator = imb_pipe_knn,\n",
    "        param_grid = knn_param_grid,\n",
    "        scoring='recall',\n",
    "        cv=5)"
   ]
  },
  {
   "cell_type": "code",
   "execution_count": 91,
   "metadata": {
    "id": "RBYSLzIBGfhH"
   },
   "outputs": [],
   "source": [
    "grids2 = [imb_lr_grid_search, imb_dt_grid_search, imb_knn_grid_search]\n",
    "for pipe in grids2:\n",
    "    pipe.fit(X_train,y_train)"
   ]
  },
  {
   "cell_type": "code",
   "execution_count": 92,
   "metadata": {
    "colab": {
     "base_uri": "https://localhost:8080/"
    },
    "id": "BSAhcoeBHbEv",
    "outputId": "1cd2e5e9-7ad0-4c59-c5ae-13f189225317"
   },
   "outputs": [
    {
     "name": "stdout",
     "output_type": "stream",
     "text": [
      "Logistic Regression Test Recall: 0.5454981608827763\n",
      "Logistic Regression Best Params: {'LR__C': 0.1, 'LR__penalty': 'l1', 'LR__solver': 'liblinear'}\n",
      "Decision Trees Test Recall: 0.7294098832560371\n",
      "Decision Trees Best Params: {'DT__criterion': 'gini', 'DT__max_depth': 1, 'DT__min_samples_leaf': 1, 'DT__min_samples_split': 3}\n",
      "K-Nearest Neighbors Test Recall: 0.5672477210938749\n",
      "K-Nearest Neighbors Best Params: {'KNN__metric': 'euclidean', 'KNN__n_neighbors': 5, 'KNN__weights': 'distance'}\n"
     ]
    }
   ],
   "source": [
    "# Checking recall values of different models after oversampling our dataset.\n",
    "\n",
    "grid_dict2 = {0: 'Logistic Regression', 1: 'Decision Trees', 2: 'K-Nearest Neighbors'}\n",
    "for i, model in enumerate(grids2):\n",
    "    print('{} Test Recall: {}'.format(grid_dict2[i],\n",
    "    recall_score(y_test, model.predict(X_test))))\n",
    "    print('{} Best Params: {}'.format(grid_dict2[i], model.best_params_))"
   ]
  },
  {
   "cell_type": "code",
   "execution_count": 93,
   "metadata": {
    "colab": {
     "base_uri": "https://localhost:8080/"
    },
    "id": "cucBnbkeL09H",
    "outputId": "6dfb7399-2562-4f9d-edce-cb9be6fc75e6"
   },
   "outputs": [
    {
     "name": "stdout",
     "output_type": "stream",
     "text": [
      "Logistic Regression Classification Report : \n",
      " \n",
      "               precision    recall  f1-score   support\n",
      "\n",
      "           0       0.89      0.51      0.64     44147\n",
      "           1       0.14      0.55      0.22      6253\n",
      "\n",
      "    accuracy                           0.51     50400\n",
      "   macro avg       0.51      0.53      0.43     50400\n",
      "weighted avg       0.79      0.51      0.59     50400\n",
      " \n",
      "\n",
      "Decision Trees Classification Report : \n",
      " \n",
      "               precision    recall  f1-score   support\n",
      "\n",
      "           0       0.89      0.31      0.45     44147\n",
      "           1       0.13      0.73      0.22      6253\n",
      "\n",
      "    accuracy                           0.36     50400\n",
      "   macro avg       0.51      0.52      0.34     50400\n",
      "weighted avg       0.79      0.36      0.43     50400\n",
      " \n",
      "\n",
      "K-Nearest Neighbors Classification Report : \n",
      " \n",
      "               precision    recall  f1-score   support\n",
      "\n",
      "           0       0.94      0.90      0.92     44147\n",
      "           1       0.45      0.57      0.50      6253\n",
      "\n",
      "    accuracy                           0.86     50400\n",
      "   macro avg       0.69      0.73      0.71     50400\n",
      "weighted avg       0.88      0.86      0.87     50400\n",
      " \n",
      "\n"
     ]
    }
   ],
   "source": [
    "grid_dict2 = {0: 'Logistic Regression', 1: 'Decision Trees', 2: 'K-Nearest Neighbors'}\n",
    "for i, model in enumerate(grids2):\n",
    "    print('{} Classification Report : \\n \\n {} \\n'.format(grid_dict2[i],\n",
    "  classification_report(y_test,model.predict(X_test))))"
   ]
  },
  {
   "cell_type": "code",
   "execution_count": null,
   "metadata": {
    "id": "P0B-IYGkHf2g"
   },
   "outputs": [],
   "source": []
  },
  {
   "cell_type": "code",
   "execution_count": 94,
   "metadata": {
    "id": "u9YgQkSBHf5m"
   },
   "outputs": [],
   "source": [
    "\n",
    "imb_pipe_lr1 = Pipeline(steps = [('nearmiss', NearMiss(version=3, n_neighbors=3)), \n",
    "                      ('standardscaler', StandardScaler()),\n",
    "                      ('LR', LogisticRegression(random_state = 42))])\n",
    "\n",
    "imb_pipe_dt1 = Pipeline(steps = [('nearmiss', NearMiss(version=3, n_neighbors=3)), \n",
    "                      ('standardscaler', StandardScaler()),\n",
    "                      ('DT', DecisionTreeClassifier(random_state = 42))])\n",
    "\n",
    "imb_pipe_knn1 = Pipeline(steps = [('nearmiss', NearMiss(version=3, n_neighbors=3)), \n",
    "                      ('standardscaler', StandardScaler()),\n",
    "                      ('KNN', KNeighborsClassifier())])\n"
   ]
  },
  {
   "cell_type": "code",
   "execution_count": 95,
   "metadata": {
    "id": "5bL2AQw1Mp7z"
   },
   "outputs": [],
   "source": [
    "imb_lr_grid_search1 = GridSearchCV(estimator = imb_pipe_lr1,\n",
    "        param_grid = lr_param_grid,\n",
    "        scoring='recall',\n",
    "        cv=5)\n",
    "\n",
    "imb_dt_grid_search1 = GridSearchCV(estimator = imb_pipe_dt1,\n",
    "        param_grid = dt_param_grid,\n",
    "        scoring='recall',\n",
    "        cv=5)\n",
    "\n",
    "imb_knn_grid_search1 = GridSearchCV(estimator = imb_pipe_knn1,\n",
    "        param_grid = knn_param_grid,\n",
    "        scoring='recall',\n",
    "        cv=5)"
   ]
  },
  {
   "cell_type": "code",
   "execution_count": 96,
   "metadata": {
    "id": "Xo7NOHYOMvtu"
   },
   "outputs": [],
   "source": [
    "grids3 = [imb_lr_grid_search1, imb_dt_grid_search1, imb_knn_grid_search1]\n",
    "for pipe in grids3:\n",
    "    pipe.fit(X_train,y_train)"
   ]
  },
  {
   "cell_type": "code",
   "execution_count": 97,
   "metadata": {
    "colab": {
     "base_uri": "https://localhost:8080/"
    },
    "id": "WCPoVIe4MvwX",
    "outputId": "a1974d86-5da1-4a25-936f-41cdd473cb84"
   },
   "outputs": [
    {
     "name": "stdout",
     "output_type": "stream",
     "text": [
      "Logistic Regression Test Recall: 0.9884855269470654\n",
      "Logistic Regression Best Params: {'LR__C': 0.1, 'LR__penalty': 'l1', 'LR__solver': 'liblinear'}\n",
      "Decision Trees Test Recall: 1.0\n",
      "Decision Trees Best Params: {'DT__criterion': 'gini', 'DT__max_depth': 1, 'DT__min_samples_leaf': 1, 'DT__min_samples_split': 3}\n",
      "K-Nearest Neighbors Test Recall: 0.08699824084439468\n",
      "K-Nearest Neighbors Best Params: {'KNN__metric': 'euclidean', 'KNN__n_neighbors': 1, 'KNN__weights': 'uniform'}\n"
     ]
    }
   ],
   "source": [
    "# Checking recall values of different models after oversampling our dataset.\n",
    "\n",
    "grid_dict3 = {0: 'Logistic Regression', 1: 'Decision Trees', 2: 'K-Nearest Neighbors'}\n",
    "for i, model in enumerate(grids3):\n",
    "    print('{} Test Recall: {}'.format(grid_dict3[i],\n",
    "    recall_score(y_test,model.predict(X_test))))\n",
    "    print('{} Best Params: {}'.format(grid_dict3[i], model.best_params_))"
   ]
  },
  {
   "cell_type": "code",
   "execution_count": 98,
   "metadata": {
    "colab": {
     "base_uri": "https://localhost:8080/"
    },
    "id": "jGay7RZhKHG-",
    "outputId": "bbe4e2ba-4d32-4bba-849e-89a0371a7fd3"
   },
   "outputs": [
    {
     "name": "stdout",
     "output_type": "stream",
     "text": [
      "Logistic Regression Classification Report : \n",
      " \n",
      "               precision    recall  f1-score   support\n",
      "\n",
      "           0       0.93      0.02      0.04     44147\n",
      "           1       0.13      0.99      0.22      6253\n",
      "\n",
      "    accuracy                           0.14     50400\n",
      "   macro avg       0.53      0.50      0.13     50400\n",
      "weighted avg       0.83      0.14      0.06     50400\n",
      " \n",
      "\n",
      "Decision Trees Classification Report : \n",
      " \n",
      "               precision    recall  f1-score   support\n",
      "\n",
      "           0       0.00      0.00      0.00     44147\n",
      "           1       0.12      1.00      0.22      6253\n",
      "\n",
      "    accuracy                           0.12     50400\n",
      "   macro avg       0.06      0.50      0.11     50400\n",
      "weighted avg       0.02      0.12      0.03     50400\n",
      " \n",
      "\n",
      "K-Nearest Neighbors Classification Report : \n",
      " \n",
      "               precision    recall  f1-score   support\n",
      "\n",
      "           0       0.86      0.79      0.82     44147\n",
      "           1       0.05      0.09      0.07      6253\n",
      "\n",
      "    accuracy                           0.70     50400\n",
      "   macro avg       0.46      0.44      0.44     50400\n",
      "weighted avg       0.76      0.70      0.73     50400\n",
      " \n",
      "\n"
     ]
    }
   ],
   "source": [
    "grid_dict3 = {0: 'Logistic Regression', 1: 'Decision Trees', 2: 'K-Nearest Neighbors'}\n",
    "for i, model in enumerate(grids3):\n",
    "    print('{} Classification Report : \\n \\n {} \\n'.format(grid_dict3[i],\n",
    "  classification_report(y_test,model.predict(X_test))))"
   ]
  },
  {
   "cell_type": "code",
   "execution_count": null,
   "metadata": {
    "id": "xO3Mtu-QeqHr"
   },
   "outputs": [],
   "source": []
  },
  {
   "cell_type": "code",
   "execution_count": 99,
   "metadata": {
    "id": "F8LfIWKbXF_s"
   },
   "outputs": [],
   "source": [
    "# From the 3 methods we used to train multiple models (Imbalanced dataset, oversampling, and undersampling), we can clearly see that the technique\n",
    "# of oversampling is giving us the best results. The highest F1 score and the ROC-AUC score is obtianed for KNN (with oversampling), which can be\n",
    "# used for further classifications."
   ]
  },
  {
   "cell_type": "code",
   "execution_count": null,
   "metadata": {},
   "outputs": [],
   "source": []
  },
  {
   "cell_type": "code",
   "execution_count": 108,
   "metadata": {},
   "outputs": [],
   "source": [
    "knn_param_grid = [{'KNN__n_neighbors': param_range,\n",
    "                    'KNN__algorithm': ['auto', 'ball_tree', 'kd_tree', 'brute'],\n",
    "                   'KNN__weights': ['uniform', 'distance'],\n",
    "                   'KNN__metric': ['euclidean', 'manhattan']}]"
   ]
  },
  {
   "cell_type": "code",
   "execution_count": 109,
   "metadata": {},
   "outputs": [],
   "source": [
    "imb_pipe_knn = Pipeline(steps = [('smote', SMOTE(random_state = 42)), \n",
    "                      ('standardscaler', StandardScaler()),\n",
    "                      ('KNN', KNeighborsClassifier())])"
   ]
  },
  {
   "cell_type": "code",
   "execution_count": 110,
   "metadata": {},
   "outputs": [],
   "source": [
    "imb_knn_grid_search = GridSearchCV(estimator = imb_pipe_knn,\n",
    "        param_grid = knn_param_grid,\n",
    "        scoring='recall',\n",
    "        cv=5)"
   ]
  },
  {
   "cell_type": "code",
   "execution_count": 111,
   "metadata": {},
   "outputs": [
    {
     "data": {
      "text/html": [
       "<style>#sk-container-id-1 {color: black;background-color: white;}#sk-container-id-1 pre{padding: 0;}#sk-container-id-1 div.sk-toggleable {background-color: white;}#sk-container-id-1 label.sk-toggleable__label {cursor: pointer;display: block;width: 100%;margin-bottom: 0;padding: 0.3em;box-sizing: border-box;text-align: center;}#sk-container-id-1 label.sk-toggleable__label-arrow:before {content: \"▸\";float: left;margin-right: 0.25em;color: #696969;}#sk-container-id-1 label.sk-toggleable__label-arrow:hover:before {color: black;}#sk-container-id-1 div.sk-estimator:hover label.sk-toggleable__label-arrow:before {color: black;}#sk-container-id-1 div.sk-toggleable__content {max-height: 0;max-width: 0;overflow: hidden;text-align: left;background-color: #f0f8ff;}#sk-container-id-1 div.sk-toggleable__content pre {margin: 0.2em;color: black;border-radius: 0.25em;background-color: #f0f8ff;}#sk-container-id-1 input.sk-toggleable__control:checked~div.sk-toggleable__content {max-height: 200px;max-width: 100%;overflow: auto;}#sk-container-id-1 input.sk-toggleable__control:checked~label.sk-toggleable__label-arrow:before {content: \"▾\";}#sk-container-id-1 div.sk-estimator input.sk-toggleable__control:checked~label.sk-toggleable__label {background-color: #d4ebff;}#sk-container-id-1 div.sk-label input.sk-toggleable__control:checked~label.sk-toggleable__label {background-color: #d4ebff;}#sk-container-id-1 input.sk-hidden--visually {border: 0;clip: rect(1px 1px 1px 1px);clip: rect(1px, 1px, 1px, 1px);height: 1px;margin: -1px;overflow: hidden;padding: 0;position: absolute;width: 1px;}#sk-container-id-1 div.sk-estimator {font-family: monospace;background-color: #f0f8ff;border: 1px dotted black;border-radius: 0.25em;box-sizing: border-box;margin-bottom: 0.5em;}#sk-container-id-1 div.sk-estimator:hover {background-color: #d4ebff;}#sk-container-id-1 div.sk-parallel-item::after {content: \"\";width: 100%;border-bottom: 1px solid gray;flex-grow: 1;}#sk-container-id-1 div.sk-label:hover label.sk-toggleable__label {background-color: #d4ebff;}#sk-container-id-1 div.sk-serial::before {content: \"\";position: absolute;border-left: 1px solid gray;box-sizing: border-box;top: 0;bottom: 0;left: 50%;z-index: 0;}#sk-container-id-1 div.sk-serial {display: flex;flex-direction: column;align-items: center;background-color: white;padding-right: 0.2em;padding-left: 0.2em;position: relative;}#sk-container-id-1 div.sk-item {position: relative;z-index: 1;}#sk-container-id-1 div.sk-parallel {display: flex;align-items: stretch;justify-content: center;background-color: white;position: relative;}#sk-container-id-1 div.sk-item::before, #sk-container-id-1 div.sk-parallel-item::before {content: \"\";position: absolute;border-left: 1px solid gray;box-sizing: border-box;top: 0;bottom: 0;left: 50%;z-index: -1;}#sk-container-id-1 div.sk-parallel-item {display: flex;flex-direction: column;z-index: 1;position: relative;background-color: white;}#sk-container-id-1 div.sk-parallel-item:first-child::after {align-self: flex-end;width: 50%;}#sk-container-id-1 div.sk-parallel-item:last-child::after {align-self: flex-start;width: 50%;}#sk-container-id-1 div.sk-parallel-item:only-child::after {width: 0;}#sk-container-id-1 div.sk-dashed-wrapped {border: 1px dashed gray;margin: 0 0.4em 0.5em 0.4em;box-sizing: border-box;padding-bottom: 0.4em;background-color: white;}#sk-container-id-1 div.sk-label label {font-family: monospace;font-weight: bold;display: inline-block;line-height: 1.2em;}#sk-container-id-1 div.sk-label-container {text-align: center;}#sk-container-id-1 div.sk-container {/* jupyter's `normalize.less` sets `[hidden] { display: none; }` but bootstrap.min.css set `[hidden] { display: none !important; }` so we also need the `!important` here to be able to override the default hidden behavior on the sphinx rendered scikit-learn.org. See: https://github.com/scikit-learn/scikit-learn/issues/21755 */display: inline-block !important;position: relative;}#sk-container-id-1 div.sk-text-repr-fallback {display: none;}</style><div id=\"sk-container-id-1\" class=\"sk-top-container\"><div class=\"sk-text-repr-fallback\"><pre>GridSearchCV(cv=5,\n",
       "             estimator=Pipeline(steps=[(&#x27;smote&#x27;, SMOTE(random_state=42)),\n",
       "                                       (&#x27;standardscaler&#x27;, StandardScaler()),\n",
       "                                       (&#x27;KNN&#x27;, KNeighborsClassifier())]),\n",
       "             param_grid=[{&#x27;KNN__algorithm&#x27;: [&#x27;auto&#x27;, &#x27;ball_tree&#x27;, &#x27;kd_tree&#x27;,\n",
       "                                             &#x27;brute&#x27;],\n",
       "                          &#x27;KNN__metric&#x27;: [&#x27;euclidean&#x27;, &#x27;manhattan&#x27;],\n",
       "                          &#x27;KNN__n_neighbors&#x27;: [1, 2, 3, 4, 5, 6],\n",
       "                          &#x27;KNN__weights&#x27;: [&#x27;uniform&#x27;, &#x27;distance&#x27;]}],\n",
       "             scoring=&#x27;recall&#x27;)</pre><b>In a Jupyter environment, please rerun this cell to show the HTML representation or trust the notebook. <br />On GitHub, the HTML representation is unable to render, please try loading this page with nbviewer.org.</b></div><div class=\"sk-container\" hidden><div class=\"sk-item sk-dashed-wrapped\"><div class=\"sk-label-container\"><div class=\"sk-label sk-toggleable\"><input class=\"sk-toggleable__control sk-hidden--visually\" id=\"sk-estimator-id-1\" type=\"checkbox\" ><label for=\"sk-estimator-id-1\" class=\"sk-toggleable__label sk-toggleable__label-arrow\">GridSearchCV</label><div class=\"sk-toggleable__content\"><pre>GridSearchCV(cv=5,\n",
       "             estimator=Pipeline(steps=[(&#x27;smote&#x27;, SMOTE(random_state=42)),\n",
       "                                       (&#x27;standardscaler&#x27;, StandardScaler()),\n",
       "                                       (&#x27;KNN&#x27;, KNeighborsClassifier())]),\n",
       "             param_grid=[{&#x27;KNN__algorithm&#x27;: [&#x27;auto&#x27;, &#x27;ball_tree&#x27;, &#x27;kd_tree&#x27;,\n",
       "                                             &#x27;brute&#x27;],\n",
       "                          &#x27;KNN__metric&#x27;: [&#x27;euclidean&#x27;, &#x27;manhattan&#x27;],\n",
       "                          &#x27;KNN__n_neighbors&#x27;: [1, 2, 3, 4, 5, 6],\n",
       "                          &#x27;KNN__weights&#x27;: [&#x27;uniform&#x27;, &#x27;distance&#x27;]}],\n",
       "             scoring=&#x27;recall&#x27;)</pre></div></div></div><div class=\"sk-parallel\"><div class=\"sk-parallel-item\"><div class=\"sk-item\"><div class=\"sk-label-container\"><div class=\"sk-label sk-toggleable\"><input class=\"sk-toggleable__control sk-hidden--visually\" id=\"sk-estimator-id-2\" type=\"checkbox\" ><label for=\"sk-estimator-id-2\" class=\"sk-toggleable__label sk-toggleable__label-arrow\">estimator: Pipeline</label><div class=\"sk-toggleable__content\"><pre>Pipeline(steps=[(&#x27;smote&#x27;, SMOTE(random_state=42)),\n",
       "                (&#x27;standardscaler&#x27;, StandardScaler()),\n",
       "                (&#x27;KNN&#x27;, KNeighborsClassifier())])</pre></div></div></div><div class=\"sk-serial\"><div class=\"sk-item\"><div class=\"sk-serial\"><div class=\"sk-item\"><div class=\"sk-estimator sk-toggleable\"><input class=\"sk-toggleable__control sk-hidden--visually\" id=\"sk-estimator-id-3\" type=\"checkbox\" ><label for=\"sk-estimator-id-3\" class=\"sk-toggleable__label sk-toggleable__label-arrow\">SMOTE</label><div class=\"sk-toggleable__content\"><pre>SMOTE(random_state=42)</pre></div></div></div><div class=\"sk-item\"><div class=\"sk-estimator sk-toggleable\"><input class=\"sk-toggleable__control sk-hidden--visually\" id=\"sk-estimator-id-4\" type=\"checkbox\" ><label for=\"sk-estimator-id-4\" class=\"sk-toggleable__label sk-toggleable__label-arrow\">StandardScaler</label><div class=\"sk-toggleable__content\"><pre>StandardScaler()</pre></div></div></div><div class=\"sk-item\"><div class=\"sk-estimator sk-toggleable\"><input class=\"sk-toggleable__control sk-hidden--visually\" id=\"sk-estimator-id-5\" type=\"checkbox\" ><label for=\"sk-estimator-id-5\" class=\"sk-toggleable__label sk-toggleable__label-arrow\">KNeighborsClassifier</label><div class=\"sk-toggleable__content\"><pre>KNeighborsClassifier()</pre></div></div></div></div></div></div></div></div></div></div></div></div>"
      ],
      "text/plain": [
       "GridSearchCV(cv=5,\n",
       "             estimator=Pipeline(steps=[('smote', SMOTE(random_state=42)),\n",
       "                                       ('standardscaler', StandardScaler()),\n",
       "                                       ('KNN', KNeighborsClassifier())]),\n",
       "             param_grid=[{'KNN__algorithm': ['auto', 'ball_tree', 'kd_tree',\n",
       "                                             'brute'],\n",
       "                          'KNN__metric': ['euclidean', 'manhattan'],\n",
       "                          'KNN__n_neighbors': [1, 2, 3, 4, 5, 6],\n",
       "                          'KNN__weights': ['uniform', 'distance']}],\n",
       "             scoring='recall')"
      ]
     },
     "execution_count": 111,
     "metadata": {},
     "output_type": "execute_result"
    }
   ],
   "source": [
    "imb_knn_grid_search.fit(X_train,y_train)"
   ]
  },
  {
   "cell_type": "code",
   "execution_count": 117,
   "metadata": {},
   "outputs": [
    {
     "data": {
      "text/plain": [
       "{'KNN__algorithm': 'brute',\n",
       " 'KNN__metric': 'euclidean',\n",
       " 'KNN__n_neighbors': 5,\n",
       " 'KNN__weights': 'distance'}"
      ]
     },
     "execution_count": 117,
     "metadata": {},
     "output_type": "execute_result"
    }
   ],
   "source": [
    "imb_knn_grid_search.best_params_"
   ]
  },
  {
   "cell_type": "code",
   "execution_count": 113,
   "metadata": {},
   "outputs": [
    {
     "data": {
      "text/plain": [
       "0.6027506796737566"
      ]
     },
     "execution_count": 113,
     "metadata": {},
     "output_type": "execute_result"
    }
   ],
   "source": [
    "recall_score(y_test, imb_knn_grid_search.predict(X_test))"
   ]
  },
  {
   "cell_type": "code",
   "execution_count": 116,
   "metadata": {},
   "outputs": [
    {
     "name": "stdout",
     "output_type": "stream",
     "text": [
      "              precision    recall  f1-score   support\n",
      "\n",
      "           0       0.94      0.90      0.92     44147\n",
      "           1       0.45      0.60      0.51      6253\n",
      "\n",
      "    accuracy                           0.86     50400\n",
      "   macro avg       0.69      0.75      0.72     50400\n",
      "weighted avg       0.88      0.86      0.87     50400\n",
      "\n"
     ]
    }
   ],
   "source": [
    "print(classification_report(y_test, imb_knn_grid_search.predict(X_test)))"
   ]
  },
  {
   "cell_type": "code",
   "execution_count": null,
   "metadata": {},
   "outputs": [],
   "source": []
  },
  {
   "cell_type": "code",
   "execution_count": 122,
   "metadata": {},
   "outputs": [],
   "source": [
    "#Save the trained model\n",
    "# pickling the model\n",
    "import pickle\n",
    "filename = 'Final_trained_model.sav'\n",
    "pickle.dump(imb_knn_grid_search, open(filename,'wb'))"
   ]
  },
  {
   "cell_type": "code",
   "execution_count": 123,
   "metadata": {},
   "outputs": [],
   "source": [
    "#Loading the saved model\n",
    "loaded_model = pickle.load(open('trained_model.sav','rb'))"
   ]
  },
  {
   "cell_type": "code",
   "execution_count": null,
   "metadata": {},
   "outputs": [],
   "source": []
  },
  {
   "cell_type": "code",
   "execution_count": null,
   "metadata": {},
   "outputs": [],
   "source": []
  }
 ],
 "metadata": {
  "colab": {
   "collapsed_sections": [],
   "provenance": []
  },
  "gpuClass": "standard",
  "kernelspec": {
   "display_name": "Python 3 (ipykernel)",
   "language": "python",
   "name": "python3"
  },
  "language_info": {
   "codemirror_mode": {
    "name": "ipython",
    "version": 3
   },
   "file_extension": ".py",
   "mimetype": "text/x-python",
   "name": "python",
   "nbconvert_exporter": "python",
   "pygments_lexer": "ipython3",
   "version": "3.9.12"
  }
 },
 "nbformat": 4,
 "nbformat_minor": 1
}
